{
 "cells": [
  {
   "cell_type": "code",
   "execution_count": 1,
   "metadata": {
    "collapsed": true,
    "pycharm": {
     "name": "#%%\n"
    },
    "ExecuteTime": {
     "end_time": "2023-09-20T21:38:16.080132Z",
     "start_time": "2023-09-20T21:38:16.068660Z"
    }
   },
   "outputs": [],
   "source": [
    "from IPython.core.interactiveshell import InteractiveShell\n",
    "InteractiveShell.ast_node_interactivity = \"all\"\n",
    "import pandas as pd\n",
    "import numpy as np\n",
    "from functools import reduce\n",
    "import matplotlib.pyplot as plt\n",
    "from matplotlib_venn import venn2"
   ]
  },
  {
   "cell_type": "code",
   "execution_count": 2,
   "outputs": [],
   "source": [
    "# %connect_info\n",
    "%qtconsole"
   ],
   "metadata": {
    "collapsed": false,
    "pycharm": {
     "name": "#%%\n"
    },
    "ExecuteTime": {
     "end_time": "2023-09-20T21:38:16.099928Z",
     "start_time": "2023-09-20T21:38:16.082457Z"
    }
   }
  },
  {
   "cell_type": "code",
   "execution_count": 3,
   "outputs": [
    {
     "data": {
      "text/plain": "'/Users/cgu3/Documents/Grape-Pi/analysis-code'"
     },
     "execution_count": 3,
     "metadata": {},
     "output_type": "execute_result"
    }
   ],
   "source": [
    "pwd"
   ],
   "metadata": {
    "collapsed": false,
    "pycharm": {
     "name": "#%%\n"
    },
    "ExecuteTime": {
     "end_time": "2023-09-20T21:38:16.113543Z",
     "start_time": "2023-09-20T21:38:16.104039Z"
    }
   }
  },
  {
   "cell_type": "code",
   "execution_count": 12,
   "outputs": [],
   "source": [],
   "metadata": {
    "collapsed": false,
    "pycharm": {
     "name": "#%%\n"
    },
    "ExecuteTime": {
     "end_time": "2023-09-07T18:53:36.007493Z",
     "start_time": "2023-09-07T18:53:35.989195Z"
    }
   }
  },
  {
   "cell_type": "code",
   "execution_count": 5,
   "outputs": [
    {
     "data": {
      "text/plain": "     acc_code                                       protein_name gene_name_s  \\\n0  A0A024RBG1  Diphosphoinositol polyphosphate phosphohydrola...      NUDT4B   \n1  A0A075B6H7  Probable non-functional immunoglobulin kappa v...     IGKV3-7   \n2  A0A075B6H8  Probable non-functional immunoglobulin kappa v...   IGKV1D-42   \n3  A0A075B6H9                Immunoglobulin lambda variable 4-69    IGLV4-69   \n4  A0A075B6I0                Immunoglobulin lambda variable 8-61    IGLV8-61   \n\n  chromosome proteomics disease structure  number_isof  number_variants  \\\n0     1q21.2        yes      no        no            1                0   \n1     2p11.2        yes      no        no            1              187   \n2     2p11.2        yes      no        no            1              140   \n3   22q11.22        yes      no        no            1              318   \n4   22q11.22        yes      no        no            1              256   \n\n   number_ptms mutagenesis tissue_expr                         pe  \n0            0          no         yes  Evidence at protein level  \n1            1          no         yes  Evidence at protein level  \n2            1          no         yes  Evidence at protein level  \n3            1          no         yes  Evidence at protein level  \n4            1          no         yes  Evidence at protein level  ",
      "text/html": "<div>\n<style scoped>\n    .dataframe tbody tr th:only-of-type {\n        vertical-align: middle;\n    }\n\n    .dataframe tbody tr th {\n        vertical-align: top;\n    }\n\n    .dataframe thead th {\n        text-align: right;\n    }\n</style>\n<table border=\"1\" class=\"dataframe\">\n  <thead>\n    <tr style=\"text-align: right;\">\n      <th></th>\n      <th>acc_code</th>\n      <th>protein_name</th>\n      <th>gene_name_s</th>\n      <th>chromosome</th>\n      <th>proteomics</th>\n      <th>disease</th>\n      <th>structure</th>\n      <th>number_isof</th>\n      <th>number_variants</th>\n      <th>number_ptms</th>\n      <th>mutagenesis</th>\n      <th>tissue_expr</th>\n      <th>pe</th>\n    </tr>\n  </thead>\n  <tbody>\n    <tr>\n      <th>0</th>\n      <td>A0A024RBG1</td>\n      <td>Diphosphoinositol polyphosphate phosphohydrola...</td>\n      <td>NUDT4B</td>\n      <td>1q21.2</td>\n      <td>yes</td>\n      <td>no</td>\n      <td>no</td>\n      <td>1</td>\n      <td>0</td>\n      <td>0</td>\n      <td>no</td>\n      <td>yes</td>\n      <td>Evidence at protein level</td>\n    </tr>\n    <tr>\n      <th>1</th>\n      <td>A0A075B6H7</td>\n      <td>Probable non-functional immunoglobulin kappa v...</td>\n      <td>IGKV3-7</td>\n      <td>2p11.2</td>\n      <td>yes</td>\n      <td>no</td>\n      <td>no</td>\n      <td>1</td>\n      <td>187</td>\n      <td>1</td>\n      <td>no</td>\n      <td>yes</td>\n      <td>Evidence at protein level</td>\n    </tr>\n    <tr>\n      <th>2</th>\n      <td>A0A075B6H8</td>\n      <td>Probable non-functional immunoglobulin kappa v...</td>\n      <td>IGKV1D-42</td>\n      <td>2p11.2</td>\n      <td>yes</td>\n      <td>no</td>\n      <td>no</td>\n      <td>1</td>\n      <td>140</td>\n      <td>1</td>\n      <td>no</td>\n      <td>yes</td>\n      <td>Evidence at protein level</td>\n    </tr>\n    <tr>\n      <th>3</th>\n      <td>A0A075B6H9</td>\n      <td>Immunoglobulin lambda variable 4-69</td>\n      <td>IGLV4-69</td>\n      <td>22q11.22</td>\n      <td>yes</td>\n      <td>no</td>\n      <td>no</td>\n      <td>1</td>\n      <td>318</td>\n      <td>1</td>\n      <td>no</td>\n      <td>yes</td>\n      <td>Evidence at protein level</td>\n    </tr>\n    <tr>\n      <th>4</th>\n      <td>A0A075B6I0</td>\n      <td>Immunoglobulin lambda variable 8-61</td>\n      <td>IGLV8-61</td>\n      <td>22q11.22</td>\n      <td>yes</td>\n      <td>no</td>\n      <td>no</td>\n      <td>1</td>\n      <td>256</td>\n      <td>1</td>\n      <td>no</td>\n      <td>yes</td>\n      <td>Evidence at protein level</td>\n    </tr>\n  </tbody>\n</table>\n</div>"
     },
     "execution_count": 5,
     "metadata": {},
     "output_type": "execute_result"
    }
   ],
   "source": [
    "nextprot_dat = pd.read_csv('/Users/cgu3/Documents/Grape-Pi/data/single/raw/additional/nextprot-proteins.csv')\n",
    "nextprot_dat.head()"
   ],
   "metadata": {
    "collapsed": false,
    "pycharm": {
     "name": "#%%\n"
    },
    "ExecuteTime": {
     "end_time": "2023-09-20T21:38:34.153284Z",
     "start_time": "2023-09-20T21:38:34.042349Z"
    }
   }
  },
  {
   "cell_type": "code",
   "execution_count": 19,
   "outputs": [],
   "source": [
    "dat_spc = pd.read_csv('/Users/cgu3/Library/CloudStorage/OneDrive-InsideMDAnderson/PPI-for-protein-detecthing/data/gastric_primary_cell/gastric_primary_cell_count.csv')\n",
    "dat_spc.rename(columns={'Unnamed: 0': 'accession'}, inplace=True)\n",
    "dat_spc = dat_spc[dat_spc['accession'].isin(nextprot_dat['acc_code'])]\n",
    "dat_spc = dat_spc.drop(['IP0981_1701', 'IP0993_1701'],axis=1)\n",
    "dat_spc.set_index('accession', inplace=True)\n",
    "# reliable_positive_proteins = dat_spc[np.sum(dat_spc > 0, axis=1) >= 3].index.to_series()\n",
    "reliable_positive_proteins = dat_spc[np.sum(dat_spc >= 2, axis=1) >= 3].index.to_series()\n",
    "# reliable_negative_proteins = dat_spc.index.to_series()[~dat_spc.index.to_series().isin(reliable_positive_proteins)]\n",
    "reliable_negative_proteins = dat_spc[np.sum(dat_spc <= 1, axis=1) == 6].index.to_series()\n",
    "# maybe try mRNA"
   ],
   "metadata": {
    "collapsed": false,
    "pycharm": {
     "name": "#%%\n"
    },
    "ExecuteTime": {
     "end_time": "2023-09-20T21:50:25.005126Z",
     "start_time": "2023-09-20T21:50:24.950530Z"
    }
   }
  },
  {
   "cell_type": "markdown",
   "source": [
    "# check overlap between detected proteins in the sample"
   ],
   "metadata": {
    "collapsed": false
   }
  },
  {
   "cell_type": "code",
   "execution_count": 48,
   "outputs": [
    {
     "data": {
      "text/plain": "44503"
     },
     "execution_count": 48,
     "metadata": {},
     "output_type": "execute_result"
    }
   ],
   "source": [
    "condition = dat_spc['IP0982_1701'] > 0\n",
    "with open('../data/single/raw/additional/protein_in_IP0982_1701.txt', 'w') as output:\n",
    "    output.write('\\n'.join(dat_spc.iloc[:, 0][condition].index.to_list()))"
   ],
   "metadata": {
    "collapsed": false,
    "ExecuteTime": {
     "end_time": "2023-09-07T19:31:27.948018Z",
     "start_time": "2023-09-07T19:31:27.924341Z"
    }
   }
  },
  {
   "cell_type": "code",
   "execution_count": 50,
   "outputs": [
    {
     "data": {
      "text/plain": "44503"
     },
     "execution_count": 50,
     "metadata": {},
     "output_type": "execute_result"
    },
    {
     "data": {
      "text/plain": "44667"
     },
     "execution_count": 50,
     "metadata": {},
     "output_type": "execute_result"
    },
    {
     "data": {
      "text/plain": "34081"
     },
     "execution_count": 50,
     "metadata": {},
     "output_type": "execute_result"
    },
    {
     "data": {
      "text/plain": "37411"
     },
     "execution_count": 50,
     "metadata": {},
     "output_type": "execute_result"
    },
    {
     "data": {
      "text/plain": "29574"
     },
     "execution_count": 50,
     "metadata": {},
     "output_type": "execute_result"
    },
    {
     "data": {
      "text/plain": "39287"
     },
     "execution_count": 50,
     "metadata": {},
     "output_type": "execute_result"
    }
   ],
   "source": [
    "for ipas in dat_spc.columns:\n",
    "    condition = dat_spc[ipas] > 0\n",
    "    with open('../data/single/raw/additional/protein_in_' + ipas + '.txt', 'w') as output:\n",
    "        output.write('\\n'.join(dat_spc.iloc[:, 0][condition].index.to_list()))"
   ],
   "metadata": {
    "collapsed": false,
    "ExecuteTime": {
     "end_time": "2023-09-07T19:34:05.935082Z",
     "start_time": "2023-09-07T19:34:05.843193Z"
    }
   }
  },
  {
   "cell_type": "code",
   "execution_count": 19,
   "outputs": [],
   "source": [
    "dat_0981 = pd.read_csv('../data/single/raw/protein/combined_protein_7103_processed.csv', index_col=0)"
   ],
   "metadata": {
    "collapsed": false,
    "ExecuteTime": {
     "end_time": "2023-09-07T18:54:40.047608Z",
     "start_time": "2023-09-07T18:54:39.939493Z"
    }
   }
  },
  {
   "cell_type": "code",
   "execution_count": 20,
   "outputs": [],
   "source": [
    "negative_proteins = dat_0981.index.to_series()[~dat_0981.index.to_series().isin(dat_spc.index.to_series())]"
   ],
   "metadata": {
    "collapsed": false,
    "ExecuteTime": {
     "end_time": "2023-09-07T18:54:40.305121Z",
     "start_time": "2023-09-07T18:54:40.291543Z"
    }
   }
  },
  {
   "cell_type": "code",
   "execution_count": 21,
   "outputs": [
    {
     "ename": "NameError",
     "evalue": "name 'reliable_negative_proteins' is not defined",
     "output_type": "error",
     "traceback": [
      "\u001B[0;31m---------------------------------------------------------------------------\u001B[0m",
      "\u001B[0;31mNameError\u001B[0m                                 Traceback (most recent call last)",
      "Cell \u001B[0;32mIn[21], line 1\u001B[0m\n\u001B[0;32m----> 1\u001B[0m reliable_negative_proteins \u001B[38;5;241m=\u001B[39m pd\u001B[38;5;241m.\u001B[39mconcat([\u001B[43mreliable_negative_proteins\u001B[49m, negative_proteins])\n",
      "\u001B[0;31mNameError\u001B[0m: name 'reliable_negative_proteins' is not defined"
     ]
    }
   ],
   "source": [
    "reliable_negative_proteins = pd.concat([reliable_negative_proteins, negative_proteins])"
   ],
   "metadata": {
    "collapsed": false,
    "ExecuteTime": {
     "end_time": "2023-09-07T18:54:41.440049Z",
     "start_time": "2023-09-07T18:54:41.410056Z"
    }
   }
  },
  {
   "cell_type": "code",
   "execution_count": 22,
   "outputs": [
    {
     "data": {
      "text/plain": "5293"
     },
     "execution_count": 22,
     "metadata": {},
     "output_type": "execute_result"
    },
    {
     "ename": "NameError",
     "evalue": "name 'reliable_negative_proteins' is not defined",
     "output_type": "error",
     "traceback": [
      "\u001B[0;31m---------------------------------------------------------------------------\u001B[0m",
      "\u001B[0;31mNameError\u001B[0m                                 Traceback (most recent call last)",
      "Cell \u001B[0;32mIn[22], line 2\u001B[0m\n\u001B[1;32m      1\u001B[0m \u001B[38;5;28mlen\u001B[39m(reliable_positive_proteins)\n\u001B[0;32m----> 2\u001B[0m \u001B[38;5;28mlen\u001B[39m(\u001B[43mreliable_negative_proteins\u001B[49m)\n",
      "\u001B[0;31mNameError\u001B[0m: name 'reliable_negative_proteins' is not defined"
     ]
    }
   ],
   "source": [
    "len(reliable_positive_proteins)\n",
    "len(reliable_negative_proteins)"
   ],
   "metadata": {
    "collapsed": false,
    "pycharm": {
     "name": "#%%\n"
    },
    "ExecuteTime": {
     "end_time": "2023-09-07T18:54:47.608441Z",
     "start_time": "2023-09-07T18:54:47.574841Z"
    }
   }
  },
  {
   "cell_type": "code",
   "execution_count": 20,
   "outputs": [
    {
     "data": {
      "text/plain": "accession\nA0A096LP55    A0A096LP55\nA0A0U1RRL7    A0A0U1RRL7\nA0AVT1            A0AVT1\nA0FGR8            A0FGR8\nA0M8Q6            A0M8Q6\n                 ...    \nO95857            O95857\nP0C875            P0C875\nQ9H5Q4            Q9H5Q4\nQ9P0K7            Q9P0K7\nQ9C0B5            Q9C0B5\nName: accession, Length: 4510, dtype: object"
     },
     "execution_count": 20,
     "metadata": {},
     "output_type": "execute_result"
    }
   ],
   "source": [
    "reliable_positive_proteins\n",
    "reliable_positive_proteins.to_csv('../data/single/raw/reference/positive.txt', index=False)"
   ],
   "metadata": {
    "collapsed": false,
    "pycharm": {
     "name": "#%%\n"
    },
    "ExecuteTime": {
     "end_time": "2023-09-20T21:50:43.591032Z",
     "start_time": "2023-09-20T21:50:43.549426Z"
    }
   }
  },
  {
   "cell_type": "code",
   "execution_count": 21,
   "outputs": [
    {
     "data": {
      "text/plain": "accession\nA0A075B6R2    A0A075B6R2\nA0A087X0M5    A0A087X0M5\nA0A0B4J1Z2    A0A0B4J1Z2\nA0A0C4DH25    A0A0C4DH25\nA0A0C4DH31    A0A0C4DH31\n                 ...    \nQ9UL52            Q9UL52\nQ9ULZ0            Q9ULZ0\nQ9Y5H9            Q9Y5H9\nQ9Y603            Q9Y603\nQ9Y6Z2            Q9Y6Z2\nName: accession, Length: 2065, dtype: object"
     },
     "execution_count": 21,
     "metadata": {},
     "output_type": "execute_result"
    }
   ],
   "source": [
    "reliable_negative_proteins\n",
    "reliable_negative_proteins.to_csv('../data/single/raw/reference/negative.txt', index=False)"
   ],
   "metadata": {
    "collapsed": false,
    "pycharm": {
     "name": "#%%\n"
    },
    "ExecuteTime": {
     "end_time": "2023-09-20T21:50:44.794731Z",
     "start_time": "2023-09-20T21:50:44.761172Z"
    }
   }
  },
  {
   "cell_type": "markdown",
   "source": [
    "Performance of FDR method in gastric primary cell sample"
   ],
   "metadata": {
    "collapsed": false,
    "pycharm": {
     "name": "#%% md\n"
    }
   }
  },
  {
   "cell_type": "code",
   "execution_count": 109,
   "outputs": [
    {
     "data": {
      "text/plain": "      protein.Accession  protein.key     protein.Entry  \\\n0            A0A075B6I1        71922  A0A075B6I1_HUMAN   \n1            A0A075B6I6        71925  A0A075B6I6_HUMAN   \n2            A0A075B6K5        71935  A0A075B6K5_HUMAN   \n3            A0A075B6N4        71943  A0A075B6N4_HUMAN   \n4            A0A075B6P5        71944       KV228_HUMAN   \n...                 ...          ...               ...   \n13051            Q9Y6Y0        92896       NS1BP_HUMAN   \n13052            Q9Y6Y1        92897       CMTA1_HUMAN   \n13053            Q9Y6Y8        92898       S23IP_HUMAN   \n13054            Q9Y6Z7        92903       COL10_HUMAN   \n13055            Q9YNA8        70344       GAK19_HUMAN   \n\n                                     protein.Description protein.dataBaseType  \\\n0      Protein IGLV4-60 (Fragment) OS=Homo sapiens GN...              Regular   \n1      Protein IGLV1-50 (Fragment) OS=Homo sapiens GN...              Regular   \n2      HCG2043239 (Fragment) OS=Homo sapiens GN=IGLV3...              Regular   \n3      Protein TRBV25-1 (Fragment) OS=Homo sapiens GN...              Regular   \n4      Immunoglobulin kappa variable 2-28 OS=Homo sap...              Regular   \n...                                                  ...                  ...   \n13051  Influenza virus NS1A-binding protein OS=Homo s...              Regular   \n13052  Calmodulin-binding transcription activator 1 O...              Regular   \n13053  SEC23-interacting protein OS=Homo sapiens GN=S...              Regular   \n13054  Collectin-10 OS=Homo sapiens GN=COLEC10 PE=2 SV=2              Regular   \n13055  Isoform of Q9WJR5_ Endogenous retrovirus group...              Regular   \n\n       protein.score  protein.falsePositiveRate  protein.avgMass  \\\n0            29.8800                      20.82       13200.6299   \n1            60.2326                      26.57       12551.8520   \n2            41.5748                      32.59       12473.8112   \n3           146.0436                       1.52       13195.8990   \n4           368.3212                       2.40       13098.8636   \n...              ...                        ...              ...   \n13051        38.7143                      27.16       73292.4738   \n13052        59.6527                      29.39      186300.6395   \n13053        38.0982                      32.05      111929.1622   \n13054        40.5395                      31.21       31202.3976   \n13055        84.5150                       8.35       75248.5346   \n\n       protein.MatchedProducts  protein.matchedPeptides  ...  \\\n0                            3                        1  ...   \n1                            4                        1  ...   \n2                            6                        2  ...   \n3                            3                        1  ...   \n4                            9                        2  ...   \n...                        ...                      ...  ...   \n13051                       17                        4  ...   \n13052                        9                        3  ...   \n13053                       11                        3  ...   \n13054                        3                        1  ...   \n13055                       11                        3  ...   \n\n       protein.top3MatchedPeptideIntenSum  protein.MatchedProductIntenSum  \\\n0                                     0.0                           672.0   \n1                                     0.0                          2246.0   \n2                                     0.0                          1132.0   \n3                                     0.0                           233.0   \n4                                     0.0                         10153.0   \n...                                   ...                             ...   \n13051                                 0.0                         22308.0   \n13052                                 0.0                          6350.0   \n13053                                 0.0                          2268.0   \n13054                                 0.0                           392.0   \n13055                                 0.0                          6457.0   \n\n       protein.fmolOnColumn  protein.ngramOnColumn  protein.AutoCurate  \\\n0                       NaN                    NaN                 Red   \n1                       NaN                    NaN                 Red   \n2                       NaN                    NaN                 Red   \n3                       NaN                    NaN               Green   \n4                       NaN                    NaN              Yellow   \n...                     ...                    ...                 ...   \n13051                   NaN                    NaN                 Red   \n13052                   NaN                    NaN                 Red   \n13053                   NaN                    NaN                 Red   \n13054                   NaN                    NaN                 Red   \n13055                   NaN                    NaN              Yellow   \n\n       protein.sumNumBYCalc  protein.sumNumBYPepFrag1  \\\n0                  4.910510                         3   \n1                  4.086504                         4   \n2                  5.572281                         3   \n3                  4.525743                         3   \n4                 11.621240                         9   \n...                     ...                       ...   \n13051             21.051510                         5   \n13052             18.896200                         3   \n13053             28.493000                         3   \n13054              6.394389                         3   \n13055             25.539040                        11   \n\n                        protein.AccessionKey_ForHomologs  \\\n0                                                    NaN   \n1                                                    NaN   \n2                                                    NaN   \n3      A0A0G2JMG7 A0A0G2JNG9 A0A1B0GTL4 A0A1B0GWK1 A0...   \n4      A0A087WW87 A0A087X0P6 A0A087X0Q4 A0A075B6S2 A0...   \n...                                                  ...   \n13051                                                NaN   \n13052                                    H0YJK7 Q9Y6Y1-2   \n13053                                           Q9Y6Y8-2   \n13054                                                NaN   \n13055  P62683 P62685 P63126 P63130 P87889 Q7LDI9 P626...   \n\n                                 protein.Key_ForHomologs  \\\n0                                                    NaN   \n1                                                    NaN   \n2                                                    NaN   \n3                               4752 4882 6490 7274 7432   \n4      1015 2033 2038 71951 71954 72185 75732 75733 7...   \n...                                                  ...   \n13051                                                NaN   \n13052                                        33044 70337   \n13053                                              70340   \n13054                                                NaN   \n13055  52525 52526 52557 52560 52720 59731 79283 7933...   \n\n       protein.numUniquePeptides  \n0                              0  \n1                              0  \n2                              0  \n3                              0  \n4                              0  \n...                          ...  \n13051                          0  \n13052                          0  \n13053                          0  \n13054                          0  \n13055                          0  \n\n[13054 rows x 23 columns]",
      "text/html": "<div>\n<style scoped>\n    .dataframe tbody tr th:only-of-type {\n        vertical-align: middle;\n    }\n\n    .dataframe tbody tr th {\n        vertical-align: top;\n    }\n\n    .dataframe thead th {\n        text-align: right;\n    }\n</style>\n<table border=\"1\" class=\"dataframe\">\n  <thead>\n    <tr style=\"text-align: right;\">\n      <th></th>\n      <th>protein.Accession</th>\n      <th>protein.key</th>\n      <th>protein.Entry</th>\n      <th>protein.Description</th>\n      <th>protein.dataBaseType</th>\n      <th>protein.score</th>\n      <th>protein.falsePositiveRate</th>\n      <th>protein.avgMass</th>\n      <th>protein.MatchedProducts</th>\n      <th>protein.matchedPeptides</th>\n      <th>...</th>\n      <th>protein.top3MatchedPeptideIntenSum</th>\n      <th>protein.MatchedProductIntenSum</th>\n      <th>protein.fmolOnColumn</th>\n      <th>protein.ngramOnColumn</th>\n      <th>protein.AutoCurate</th>\n      <th>protein.sumNumBYCalc</th>\n      <th>protein.sumNumBYPepFrag1</th>\n      <th>protein.AccessionKey_ForHomologs</th>\n      <th>protein.Key_ForHomologs</th>\n      <th>protein.numUniquePeptides</th>\n    </tr>\n  </thead>\n  <tbody>\n    <tr>\n      <th>0</th>\n      <td>A0A075B6I1</td>\n      <td>71922</td>\n      <td>A0A075B6I1_HUMAN</td>\n      <td>Protein IGLV4-60 (Fragment) OS=Homo sapiens GN...</td>\n      <td>Regular</td>\n      <td>29.8800</td>\n      <td>20.82</td>\n      <td>13200.6299</td>\n      <td>3</td>\n      <td>1</td>\n      <td>...</td>\n      <td>0.0</td>\n      <td>672.0</td>\n      <td>NaN</td>\n      <td>NaN</td>\n      <td>Red</td>\n      <td>4.910510</td>\n      <td>3</td>\n      <td>NaN</td>\n      <td>NaN</td>\n      <td>0</td>\n    </tr>\n    <tr>\n      <th>1</th>\n      <td>A0A075B6I6</td>\n      <td>71925</td>\n      <td>A0A075B6I6_HUMAN</td>\n      <td>Protein IGLV1-50 (Fragment) OS=Homo sapiens GN...</td>\n      <td>Regular</td>\n      <td>60.2326</td>\n      <td>26.57</td>\n      <td>12551.8520</td>\n      <td>4</td>\n      <td>1</td>\n      <td>...</td>\n      <td>0.0</td>\n      <td>2246.0</td>\n      <td>NaN</td>\n      <td>NaN</td>\n      <td>Red</td>\n      <td>4.086504</td>\n      <td>4</td>\n      <td>NaN</td>\n      <td>NaN</td>\n      <td>0</td>\n    </tr>\n    <tr>\n      <th>2</th>\n      <td>A0A075B6K5</td>\n      <td>71935</td>\n      <td>A0A075B6K5_HUMAN</td>\n      <td>HCG2043239 (Fragment) OS=Homo sapiens GN=IGLV3...</td>\n      <td>Regular</td>\n      <td>41.5748</td>\n      <td>32.59</td>\n      <td>12473.8112</td>\n      <td>6</td>\n      <td>2</td>\n      <td>...</td>\n      <td>0.0</td>\n      <td>1132.0</td>\n      <td>NaN</td>\n      <td>NaN</td>\n      <td>Red</td>\n      <td>5.572281</td>\n      <td>3</td>\n      <td>NaN</td>\n      <td>NaN</td>\n      <td>0</td>\n    </tr>\n    <tr>\n      <th>3</th>\n      <td>A0A075B6N4</td>\n      <td>71943</td>\n      <td>A0A075B6N4_HUMAN</td>\n      <td>Protein TRBV25-1 (Fragment) OS=Homo sapiens GN...</td>\n      <td>Regular</td>\n      <td>146.0436</td>\n      <td>1.52</td>\n      <td>13195.8990</td>\n      <td>3</td>\n      <td>1</td>\n      <td>...</td>\n      <td>0.0</td>\n      <td>233.0</td>\n      <td>NaN</td>\n      <td>NaN</td>\n      <td>Green</td>\n      <td>4.525743</td>\n      <td>3</td>\n      <td>A0A0G2JMG7 A0A0G2JNG9 A0A1B0GTL4 A0A1B0GWK1 A0...</td>\n      <td>4752 4882 6490 7274 7432</td>\n      <td>0</td>\n    </tr>\n    <tr>\n      <th>4</th>\n      <td>A0A075B6P5</td>\n      <td>71944</td>\n      <td>KV228_HUMAN</td>\n      <td>Immunoglobulin kappa variable 2-28 OS=Homo sap...</td>\n      <td>Regular</td>\n      <td>368.3212</td>\n      <td>2.40</td>\n      <td>13098.8636</td>\n      <td>9</td>\n      <td>2</td>\n      <td>...</td>\n      <td>0.0</td>\n      <td>10153.0</td>\n      <td>NaN</td>\n      <td>NaN</td>\n      <td>Yellow</td>\n      <td>11.621240</td>\n      <td>9</td>\n      <td>A0A087WW87 A0A087X0P6 A0A087X0Q4 A0A075B6S2 A0...</td>\n      <td>1015 2033 2038 71951 71954 72185 75732 75733 7...</td>\n      <td>0</td>\n    </tr>\n    <tr>\n      <th>...</th>\n      <td>...</td>\n      <td>...</td>\n      <td>...</td>\n      <td>...</td>\n      <td>...</td>\n      <td>...</td>\n      <td>...</td>\n      <td>...</td>\n      <td>...</td>\n      <td>...</td>\n      <td>...</td>\n      <td>...</td>\n      <td>...</td>\n      <td>...</td>\n      <td>...</td>\n      <td>...</td>\n      <td>...</td>\n      <td>...</td>\n      <td>...</td>\n      <td>...</td>\n      <td>...</td>\n    </tr>\n    <tr>\n      <th>13051</th>\n      <td>Q9Y6Y0</td>\n      <td>92896</td>\n      <td>NS1BP_HUMAN</td>\n      <td>Influenza virus NS1A-binding protein OS=Homo s...</td>\n      <td>Regular</td>\n      <td>38.7143</td>\n      <td>27.16</td>\n      <td>73292.4738</td>\n      <td>17</td>\n      <td>4</td>\n      <td>...</td>\n      <td>0.0</td>\n      <td>22308.0</td>\n      <td>NaN</td>\n      <td>NaN</td>\n      <td>Red</td>\n      <td>21.051510</td>\n      <td>5</td>\n      <td>NaN</td>\n      <td>NaN</td>\n      <td>0</td>\n    </tr>\n    <tr>\n      <th>13052</th>\n      <td>Q9Y6Y1</td>\n      <td>92897</td>\n      <td>CMTA1_HUMAN</td>\n      <td>Calmodulin-binding transcription activator 1 O...</td>\n      <td>Regular</td>\n      <td>59.6527</td>\n      <td>29.39</td>\n      <td>186300.6395</td>\n      <td>9</td>\n      <td>3</td>\n      <td>...</td>\n      <td>0.0</td>\n      <td>6350.0</td>\n      <td>NaN</td>\n      <td>NaN</td>\n      <td>Red</td>\n      <td>18.896200</td>\n      <td>3</td>\n      <td>H0YJK7 Q9Y6Y1-2</td>\n      <td>33044 70337</td>\n      <td>0</td>\n    </tr>\n    <tr>\n      <th>13053</th>\n      <td>Q9Y6Y8</td>\n      <td>92898</td>\n      <td>S23IP_HUMAN</td>\n      <td>SEC23-interacting protein OS=Homo sapiens GN=S...</td>\n      <td>Regular</td>\n      <td>38.0982</td>\n      <td>32.05</td>\n      <td>111929.1622</td>\n      <td>11</td>\n      <td>3</td>\n      <td>...</td>\n      <td>0.0</td>\n      <td>2268.0</td>\n      <td>NaN</td>\n      <td>NaN</td>\n      <td>Red</td>\n      <td>28.493000</td>\n      <td>3</td>\n      <td>Q9Y6Y8-2</td>\n      <td>70340</td>\n      <td>0</td>\n    </tr>\n    <tr>\n      <th>13054</th>\n      <td>Q9Y6Z7</td>\n      <td>92903</td>\n      <td>COL10_HUMAN</td>\n      <td>Collectin-10 OS=Homo sapiens GN=COLEC10 PE=2 SV=2</td>\n      <td>Regular</td>\n      <td>40.5395</td>\n      <td>31.21</td>\n      <td>31202.3976</td>\n      <td>3</td>\n      <td>1</td>\n      <td>...</td>\n      <td>0.0</td>\n      <td>392.0</td>\n      <td>NaN</td>\n      <td>NaN</td>\n      <td>Red</td>\n      <td>6.394389</td>\n      <td>3</td>\n      <td>NaN</td>\n      <td>NaN</td>\n      <td>0</td>\n    </tr>\n    <tr>\n      <th>13055</th>\n      <td>Q9YNA8</td>\n      <td>70344</td>\n      <td>GAK19_HUMAN</td>\n      <td>Isoform of Q9WJR5_ Endogenous retrovirus group...</td>\n      <td>Regular</td>\n      <td>84.5150</td>\n      <td>8.35</td>\n      <td>75248.5346</td>\n      <td>11</td>\n      <td>3</td>\n      <td>...</td>\n      <td>0.0</td>\n      <td>6457.0</td>\n      <td>NaN</td>\n      <td>NaN</td>\n      <td>Yellow</td>\n      <td>25.539040</td>\n      <td>11</td>\n      <td>P62683 P62685 P63126 P63130 P87889 Q7LDI9 P626...</td>\n      <td>52525 52526 52557 52560 52720 59731 79283 7933...</td>\n      <td>0</td>\n    </tr>\n  </tbody>\n</table>\n<p>13054 rows × 23 columns</p>\n</div>"
     },
     "execution_count": 109,
     "metadata": {},
     "output_type": "execute_result"
    }
   ],
   "source": [
    "proteins = pd.read_csv('/Users/cgu3/Library/CloudStorage/OneDrive-InsideMDAnderson/proteomics/project/PPI-for-protein-detection/data/raw-data/processed-combined-protein/combined_protein_7103_processed.csv')\n",
    "proteins = proteins[proteins['protein.Accession'].isin(nextprot_dat['acc_code'])]\n",
    "proteins"
   ],
   "metadata": {
    "collapsed": false,
    "pycharm": {
     "name": "#%%\n"
    }
   }
  },
  {
   "cell_type": "code",
   "execution_count": 110,
   "outputs": [],
   "source": [
    "proteins['y'] = -1\n",
    "proteins.loc[proteins['protein.Accession'].isin(list(reliable_positive_proteins)), 'y'] = 1\n",
    "proteins.loc[proteins['protein.Accession'].isin(list(reliable_negative_proteins)), 'y'] = 0"
   ],
   "metadata": {
    "collapsed": false,
    "pycharm": {
     "name": "#%%\n"
    }
   }
  },
  {
   "cell_type": "code",
   "execution_count": 111,
   "outputs": [
    {
     "data": {
      "text/plain": "0       -1\n1       -1\n2       -1\n3       -1\n4       -1\n        ..\n13051   -1\n13052    0\n13053    1\n13054   -1\n13055   -1\nName: y, Length: 13054, dtype: int64"
     },
     "execution_count": 111,
     "metadata": {},
     "output_type": "execute_result"
    }
   ],
   "source": [
    "proteins['y']"
   ],
   "metadata": {
    "collapsed": false,
    "pycharm": {
     "name": "#%%\n"
    }
   }
  },
  {
   "cell_type": "code",
   "execution_count": 112,
   "outputs": [],
   "source": [
    "proteins['y_by_fdr'] = 0\n",
    "proteins.loc[proteins['protein.falsePositiveRate'] <= 17, 'y_by_fdr'] = 1"
   ],
   "metadata": {
    "collapsed": false,
    "pycharm": {
     "name": "#%%\n"
    }
   }
  },
  {
   "cell_type": "code",
   "execution_count": 113,
   "outputs": [],
   "source": [
    "proteins_labeled = proteins[proteins['y'] != -1]"
   ],
   "metadata": {
    "collapsed": false,
    "pycharm": {
     "name": "#%%\n"
    }
   }
  },
  {
   "cell_type": "code",
   "execution_count": 114,
   "outputs": [
    {
     "data": {
      "text/plain": "      protein.Accession  protein.key     protein.Entry  \\\n6            A0A075B6R2        71948  A0A075B6R2_HUMAN   \n9            A0A075B6V5        71969  A0A075B6V5_HUMAN   \n14           A0A087WUL8        72050       NBPFJ_HUMAN   \n20           A0A087X0M5        72083  A0A087X0M5_HUMAN   \n26           A0A096LP55        72147       QCR6L_HUMAN   \n...                 ...          ...               ...   \n13045            Q9Y6X3        92890        SCC4_HUMAN   \n13047            Q9Y6X5        92892       ENPP4_HUMAN   \n13049            Q9Y6X8        92894        ZHX2_HUMAN   \n13052            Q9Y6Y1        92897       CMTA1_HUMAN   \n13053            Q9Y6Y8        92898       S23IP_HUMAN   \n\n                                     protein.Description protein.dataBaseType  \\\n6      Protein IGHV4-4 (Fragment) OS=Homo sapiens GN=...              Regular   \n9      Protein TRAV36DV7 (Fragment) OS=Homo sapiens G...              Regular   \n14     Neuroblastoma breakpoint family member 19 OS=H...              Regular   \n20     Protein TRBV18 (Fragment) OS=Homo sapiens GN=T...              Regular   \n26     Cytochrome b-c1 complex subunit 6-like_ mitoch...              Regular   \n...                                                  ...                  ...   \n13045  MAU2 chromatid cohesion factor homolog OS=Homo...              Regular   \n13047  Bis(5'-adenosyl)-triphosphatase ENPP4 OS=Homo ...              Regular   \n13049  Zinc fingers and homeoboxes protein 2 OS=Homo ...              Regular   \n13052  Calmodulin-binding transcription activator 1 O...              Regular   \n13053  SEC23-interacting protein OS=Homo sapiens GN=S...              Regular   \n\n       protein.score  protein.falsePositiveRate  protein.avgMass  \\\n6           417.5766                       2.87       12989.8105   \n9           247.0453                       5.06       12909.9855   \n14           31.5360                      35.77      451704.3266   \n20          641.4063                       0.26       13383.3904   \n26         7007.2970                       0.00       11035.9385   \n...              ...                        ...              ...   \n13045         6.8039                      41.31       70431.7872   \n13047        22.8700                      42.19       52138.5148   \n13049        22.1998                      26.81       93159.6377   \n13052        59.6527                      29.39      186300.6395   \n13053        38.0982                      32.05      111929.1622   \n\n       protein.MatchedProducts  protein.matchedPeptides  ...  \\\n6                            3                        1  ...   \n9                            9                        4  ...   \n14                           7                        2  ...   \n20                          12                        2  ...   \n26                          16                        1  ...   \n...                        ...                      ...  ...   \n13045                        4                        1  ...   \n13047                        7                        3  ...   \n13049                       11                        4  ...   \n13052                        9                        3  ...   \n13053                       11                        3  ...   \n\n       protein.fmolOnColumn  protein.ngramOnColumn  protein.AutoCurate  \\\n6                       NaN                    NaN              Yellow   \n9                       NaN                    NaN               Green   \n14                      NaN                    NaN                 Red   \n20                      NaN                    NaN               Green   \n26                      NaN                    NaN               Green   \n...                     ...                    ...                 ...   \n13045                   NaN                    NaN                 Red   \n13047                   NaN                    NaN               Green   \n13049                   NaN                    NaN               Green   \n13052                   NaN                    NaN                 Red   \n13053                   NaN                    NaN                 Red   \n\n       protein.sumNumBYCalc  protein.sumNumBYPepFrag1  \\\n6                  5.298701                         3   \n9                  5.446681                         3   \n14                23.781120                         3   \n20                 5.215596                        11   \n26                29.938300                        15   \n...                     ...                       ...   \n13045              5.881503                         4   \n13047             13.897410                         4   \n13049             24.191460                         4   \n13052             18.896200                         3   \n13053             28.493000                         3   \n\n                        protein.AccessionKey_ForHomologs  \\\n6                                                    NaN   \n9                                                    NaN   \n14     A0A075B757 A0A075B761 A0A075B762 A0A087WT85 A0...   \n20                                                   NaN   \n26                                                P07919   \n...                                                  ...   \n13045                                                NaN   \n13047                                                NaN   \n13049                                                NaN   \n13052                                    H0YJK7 Q9Y6Y1-2   \n13053                                           Q9Y6Y8-2   \n\n                                 protein.Key_ForHomologs  \\\n6                                                    NaN   \n9                                                    NaN   \n14     143 144 145 301 663 817 830 835 910 986 1542 1...   \n20                                                   NaN   \n26                                                 76115   \n...                                                  ...   \n13045                                                NaN   \n13047                                                NaN   \n13049                                                NaN   \n13052                                        33044 70337   \n13053                                              70340   \n\n      protein.numUniquePeptides  y  y_by_fdr  \n6                             0  0         1  \n9                             0  0         1  \n14                            0  0         0  \n20                            0  0         1  \n26                            0  1         1  \n...                         ... ..       ...  \n13045                         0  1         0  \n13047                         0  1         0  \n13049                         0  0         0  \n13052                         0  0         0  \n13053                         0  1         0  \n\n[5212 rows x 25 columns]",
      "text/html": "<div>\n<style scoped>\n    .dataframe tbody tr th:only-of-type {\n        vertical-align: middle;\n    }\n\n    .dataframe tbody tr th {\n        vertical-align: top;\n    }\n\n    .dataframe thead th {\n        text-align: right;\n    }\n</style>\n<table border=\"1\" class=\"dataframe\">\n  <thead>\n    <tr style=\"text-align: right;\">\n      <th></th>\n      <th>protein.Accession</th>\n      <th>protein.key</th>\n      <th>protein.Entry</th>\n      <th>protein.Description</th>\n      <th>protein.dataBaseType</th>\n      <th>protein.score</th>\n      <th>protein.falsePositiveRate</th>\n      <th>protein.avgMass</th>\n      <th>protein.MatchedProducts</th>\n      <th>protein.matchedPeptides</th>\n      <th>...</th>\n      <th>protein.fmolOnColumn</th>\n      <th>protein.ngramOnColumn</th>\n      <th>protein.AutoCurate</th>\n      <th>protein.sumNumBYCalc</th>\n      <th>protein.sumNumBYPepFrag1</th>\n      <th>protein.AccessionKey_ForHomologs</th>\n      <th>protein.Key_ForHomologs</th>\n      <th>protein.numUniquePeptides</th>\n      <th>y</th>\n      <th>y_by_fdr</th>\n    </tr>\n  </thead>\n  <tbody>\n    <tr>\n      <th>6</th>\n      <td>A0A075B6R2</td>\n      <td>71948</td>\n      <td>A0A075B6R2_HUMAN</td>\n      <td>Protein IGHV4-4 (Fragment) OS=Homo sapiens GN=...</td>\n      <td>Regular</td>\n      <td>417.5766</td>\n      <td>2.87</td>\n      <td>12989.8105</td>\n      <td>3</td>\n      <td>1</td>\n      <td>...</td>\n      <td>NaN</td>\n      <td>NaN</td>\n      <td>Yellow</td>\n      <td>5.298701</td>\n      <td>3</td>\n      <td>NaN</td>\n      <td>NaN</td>\n      <td>0</td>\n      <td>0</td>\n      <td>1</td>\n    </tr>\n    <tr>\n      <th>9</th>\n      <td>A0A075B6V5</td>\n      <td>71969</td>\n      <td>A0A075B6V5_HUMAN</td>\n      <td>Protein TRAV36DV7 (Fragment) OS=Homo sapiens G...</td>\n      <td>Regular</td>\n      <td>247.0453</td>\n      <td>5.06</td>\n      <td>12909.9855</td>\n      <td>9</td>\n      <td>4</td>\n      <td>...</td>\n      <td>NaN</td>\n      <td>NaN</td>\n      <td>Green</td>\n      <td>5.446681</td>\n      <td>3</td>\n      <td>NaN</td>\n      <td>NaN</td>\n      <td>0</td>\n      <td>0</td>\n      <td>1</td>\n    </tr>\n    <tr>\n      <th>14</th>\n      <td>A0A087WUL8</td>\n      <td>72050</td>\n      <td>NBPFJ_HUMAN</td>\n      <td>Neuroblastoma breakpoint family member 19 OS=H...</td>\n      <td>Regular</td>\n      <td>31.5360</td>\n      <td>35.77</td>\n      <td>451704.3266</td>\n      <td>7</td>\n      <td>2</td>\n      <td>...</td>\n      <td>NaN</td>\n      <td>NaN</td>\n      <td>Red</td>\n      <td>23.781120</td>\n      <td>3</td>\n      <td>A0A075B757 A0A075B761 A0A075B762 A0A087WT85 A0...</td>\n      <td>143 144 145 301 663 817 830 835 910 986 1542 1...</td>\n      <td>0</td>\n      <td>0</td>\n      <td>0</td>\n    </tr>\n    <tr>\n      <th>20</th>\n      <td>A0A087X0M5</td>\n      <td>72083</td>\n      <td>A0A087X0M5_HUMAN</td>\n      <td>Protein TRBV18 (Fragment) OS=Homo sapiens GN=T...</td>\n      <td>Regular</td>\n      <td>641.4063</td>\n      <td>0.26</td>\n      <td>13383.3904</td>\n      <td>12</td>\n      <td>2</td>\n      <td>...</td>\n      <td>NaN</td>\n      <td>NaN</td>\n      <td>Green</td>\n      <td>5.215596</td>\n      <td>11</td>\n      <td>NaN</td>\n      <td>NaN</td>\n      <td>0</td>\n      <td>0</td>\n      <td>1</td>\n    </tr>\n    <tr>\n      <th>26</th>\n      <td>A0A096LP55</td>\n      <td>72147</td>\n      <td>QCR6L_HUMAN</td>\n      <td>Cytochrome b-c1 complex subunit 6-like_ mitoch...</td>\n      <td>Regular</td>\n      <td>7007.2970</td>\n      <td>0.00</td>\n      <td>11035.9385</td>\n      <td>16</td>\n      <td>1</td>\n      <td>...</td>\n      <td>NaN</td>\n      <td>NaN</td>\n      <td>Green</td>\n      <td>29.938300</td>\n      <td>15</td>\n      <td>P07919</td>\n      <td>76115</td>\n      <td>0</td>\n      <td>1</td>\n      <td>1</td>\n    </tr>\n    <tr>\n      <th>...</th>\n      <td>...</td>\n      <td>...</td>\n      <td>...</td>\n      <td>...</td>\n      <td>...</td>\n      <td>...</td>\n      <td>...</td>\n      <td>...</td>\n      <td>...</td>\n      <td>...</td>\n      <td>...</td>\n      <td>...</td>\n      <td>...</td>\n      <td>...</td>\n      <td>...</td>\n      <td>...</td>\n      <td>...</td>\n      <td>...</td>\n      <td>...</td>\n      <td>...</td>\n      <td>...</td>\n    </tr>\n    <tr>\n      <th>13045</th>\n      <td>Q9Y6X3</td>\n      <td>92890</td>\n      <td>SCC4_HUMAN</td>\n      <td>MAU2 chromatid cohesion factor homolog OS=Homo...</td>\n      <td>Regular</td>\n      <td>6.8039</td>\n      <td>41.31</td>\n      <td>70431.7872</td>\n      <td>4</td>\n      <td>1</td>\n      <td>...</td>\n      <td>NaN</td>\n      <td>NaN</td>\n      <td>Red</td>\n      <td>5.881503</td>\n      <td>4</td>\n      <td>NaN</td>\n      <td>NaN</td>\n      <td>0</td>\n      <td>1</td>\n      <td>0</td>\n    </tr>\n    <tr>\n      <th>13047</th>\n      <td>Q9Y6X5</td>\n      <td>92892</td>\n      <td>ENPP4_HUMAN</td>\n      <td>Bis(5'-adenosyl)-triphosphatase ENPP4 OS=Homo ...</td>\n      <td>Regular</td>\n      <td>22.8700</td>\n      <td>42.19</td>\n      <td>52138.5148</td>\n      <td>7</td>\n      <td>3</td>\n      <td>...</td>\n      <td>NaN</td>\n      <td>NaN</td>\n      <td>Green</td>\n      <td>13.897410</td>\n      <td>4</td>\n      <td>NaN</td>\n      <td>NaN</td>\n      <td>0</td>\n      <td>1</td>\n      <td>0</td>\n    </tr>\n    <tr>\n      <th>13049</th>\n      <td>Q9Y6X8</td>\n      <td>92894</td>\n      <td>ZHX2_HUMAN</td>\n      <td>Zinc fingers and homeoboxes protein 2 OS=Homo ...</td>\n      <td>Regular</td>\n      <td>22.1998</td>\n      <td>26.81</td>\n      <td>93159.6377</td>\n      <td>11</td>\n      <td>4</td>\n      <td>...</td>\n      <td>NaN</td>\n      <td>NaN</td>\n      <td>Green</td>\n      <td>24.191460</td>\n      <td>4</td>\n      <td>NaN</td>\n      <td>NaN</td>\n      <td>0</td>\n      <td>0</td>\n      <td>0</td>\n    </tr>\n    <tr>\n      <th>13052</th>\n      <td>Q9Y6Y1</td>\n      <td>92897</td>\n      <td>CMTA1_HUMAN</td>\n      <td>Calmodulin-binding transcription activator 1 O...</td>\n      <td>Regular</td>\n      <td>59.6527</td>\n      <td>29.39</td>\n      <td>186300.6395</td>\n      <td>9</td>\n      <td>3</td>\n      <td>...</td>\n      <td>NaN</td>\n      <td>NaN</td>\n      <td>Red</td>\n      <td>18.896200</td>\n      <td>3</td>\n      <td>H0YJK7 Q9Y6Y1-2</td>\n      <td>33044 70337</td>\n      <td>0</td>\n      <td>0</td>\n      <td>0</td>\n    </tr>\n    <tr>\n      <th>13053</th>\n      <td>Q9Y6Y8</td>\n      <td>92898</td>\n      <td>S23IP_HUMAN</td>\n      <td>SEC23-interacting protein OS=Homo sapiens GN=S...</td>\n      <td>Regular</td>\n      <td>38.0982</td>\n      <td>32.05</td>\n      <td>111929.1622</td>\n      <td>11</td>\n      <td>3</td>\n      <td>...</td>\n      <td>NaN</td>\n      <td>NaN</td>\n      <td>Red</td>\n      <td>28.493000</td>\n      <td>3</td>\n      <td>Q9Y6Y8-2</td>\n      <td>70340</td>\n      <td>0</td>\n      <td>1</td>\n      <td>0</td>\n    </tr>\n  </tbody>\n</table>\n<p>5212 rows × 25 columns</p>\n</div>"
     },
     "execution_count": 114,
     "metadata": {},
     "output_type": "execute_result"
    }
   ],
   "source": [
    "proteins_labeled"
   ],
   "metadata": {
    "collapsed": false,
    "pycharm": {
     "name": "#%%\n"
    }
   }
  },
  {
   "cell_type": "code",
   "execution_count": 115,
   "outputs": [
    {
     "data": {
      "text/plain": "0.6366078280890253"
     },
     "execution_count": 115,
     "metadata": {},
     "output_type": "execute_result"
    }
   ],
   "source": [
    "((proteins_labeled['y'] == proteins_labeled['y_by_fdr']).astype(int)).mean()"
   ],
   "metadata": {
    "collapsed": false,
    "pycharm": {
     "name": "#%%\n"
    }
   }
  },
  {
   "cell_type": "code",
   "execution_count": 116,
   "outputs": [
    {
     "data": {
      "text/plain": "0.640754369825207"
     },
     "execution_count": 116,
     "metadata": {},
     "output_type": "execute_result"
    }
   ],
   "source": [
    "import sklearn.metrics as metrics\n",
    "metrics.recall_score(proteins_labeled['y'], proteins_labeled['y_by_fdr'])"
   ],
   "metadata": {
    "collapsed": false,
    "pycharm": {
     "name": "#%%\n"
    }
   }
  },
  {
   "cell_type": "code",
   "execution_count": 117,
   "outputs": [],
   "source": [
    "from sklearn import metrics\n",
    "fpr, tpr, thresholds = metrics.roc_curve(proteins_labeled['y'], 1- proteins_labeled['protein.falsePositiveRate'])"
   ],
   "metadata": {
    "collapsed": false,
    "pycharm": {
     "name": "#%%\n"
    }
   }
  },
  {
   "cell_type": "code",
   "execution_count": 118,
   "outputs": [
    {
     "data": {
      "text/plain": "0.6784369250229991"
     },
     "execution_count": 118,
     "metadata": {},
     "output_type": "execute_result"
    },
    {
     "data": {
      "text/plain": "<sklearn.metrics._plot.roc_curve.RocCurveDisplay at 0x7f9f4e3df460>"
     },
     "execution_count": 118,
     "metadata": {},
     "output_type": "execute_result"
    },
    {
     "data": {
      "text/plain": "Text(0.5, 1.0, 'Test ROC')"
     },
     "execution_count": 118,
     "metadata": {},
     "output_type": "execute_result"
    },
    {
     "data": {
      "text/plain": "<Figure size 640x480 with 1 Axes>",
      "image/png": "[encoded data removed]"
     },
     "metadata": {},
     "output_type": "display_data"
    }
   ],
   "source": [
    "# load numpy array from csv file\n",
    "import matplotlib.pyplot as plt\n",
    "%matplotlib inline\n",
    "roc_auc = metrics.auc(fpr, tpr)\n",
    "roc_auc\n",
    "#  # Plotting\n",
    "roc_display = metrics.RocCurveDisplay(fpr=fpr, tpr=tpr, roc_auc=roc_auc,\n",
    "                                  estimator_name='ROC using FDR approach')\n",
    "roc_display.plot()\n",
    "plt.title('Test ROC')\n",
    "plt.show()"
   ],
   "metadata": {
    "collapsed": false,
    "pycharm": {
     "name": "#%%\n"
    }
   }
  },
  {
   "cell_type": "code",
   "execution_count": null,
   "outputs": [],
   "source": [],
   "metadata": {
    "collapsed": false,
    "pycharm": {
     "name": "#%%\n"
    }
   }
  }
 ],
 "metadata": {
  "kernelspec": {
   "display_name": "Python 3",
   "language": "python",
   "name": "python3"
  },
  "language_info": {
   "codemirror_mode": {
    "name": "ipython",
    "version": 2
   },
   "file_extension": ".py",
   "mimetype": "text/x-python",
   "name": "python",
   "nbconvert_exporter": "python",
   "pygments_lexer": "ipython2",
   "version": "2.7.6"
  }
 },
 "nbformat": 4,
 "nbformat_minor": 0
}
