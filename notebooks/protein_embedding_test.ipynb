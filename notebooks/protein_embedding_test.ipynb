{
 "cells": [
  {
   "cell_type": "code",
   "execution_count": null,
   "id": "7d671d63fd00f9ff",
   "metadata": {
    "collapsed": false
   },
   "outputs": [],
   "source": [
    "import numpy as np\n",
    "import h5py\n",
    "import torch"
   ]
  },
  {
   "cell_type": "code",
   "outputs": [
    {
     "name": "stdout",
     "output_type": "stream",
     "text": [
      "/Users/cgu3/Documents/Grape-Pi\n"
     ]
    },
    {
     "data": {
      "text/plain": "'/Users/cgu3/Documents/Grape-Pi'"
     },
     "execution_count": 2,
     "metadata": {},
     "output_type": "execute_result"
    }
   ],
   "source": [
    "%cd ..\n",
    "%pwd"
   ],
   "metadata": {
    "collapsed": false,
    "ExecuteTime": {
     "end_time": "2024-03-12T19:14:31.087118Z",
     "start_time": "2024-03-12T19:14:31.079622Z"
    }
   },
   "id": "25c36df86f72f990",
   "execution_count": 2
  },
  {
   "cell_type": "markdown",
   "source": [],
   "metadata": {
    "collapsed": false
   },
   "id": "7804624f3874c88f"
  },
  {
   "cell_type": "code",
   "outputs": [
    {
     "name": "stdout",
     "output_type": "stream",
     "text": [
      "<HDF5 dataset \"B5YYD6\": shape (1024,), type \"<f2\">\n",
      "tensor([-0.0100, -0.0128,  0.0257,  ...,  0.0063,  0.0093,  0.0404],\n",
      "       dtype=torch.float16)\n"
     ]
    }
   ],
   "source": [
    "with h5py.File(\"library/per-protein.h5\", \"r\") as file:\n",
    "    # check if I can retrieve a specific protein\n",
    "    print(file[\"B5YYD6\"])\n",
    "    # convert it to tensor\n",
    "    print(torch.from_numpy(np.array(file[\"B5YYD6\"])))\n",
    "    \n",
    "    # iterate keys in the file\n",
    "    # for key in file.keys():\n",
    "    #     print(key)\n",
    "    # print(f\"number of entries: {len(file.items())}\")\n",
    "    # for sequence_id, embedding in file.items():\n",
    "    #     print(\n",
    "    #         f\"  id: {sequence_id}, \"\n",
    "    #         f\"  embeddings shape: {embedding.shape}, \"\n",
    "    #         f\"  embeddings mean: {np.array(embedding).mean()}\"\n",
    "    #     )"
   ],
   "metadata": {
    "collapsed": true,
    "ExecuteTime": {
     "end_time": "2024-03-12T22:19:50.517480Z",
     "start_time": "2024-03-12T22:19:50.510461Z"
    }
   },
   "id": "initial_id",
   "execution_count": 27
  },
  {
   "cell_type": "code",
   "outputs": [],
   "source": [
    "# create torch dataset from h5 file\n",
    "import torch\n",
    "from torch.utils.data import Dataset\n",
    "import h5py\n",
    "import numpy as np\n",
    "\n",
    "class H5Dataset(Dataset):\n",
    "    def __init__(self, h5_file):\n",
    "        self.h5_file = h5_file\n",
    "        with h5py.File(h5_file, 'r') as file:\n",
    "            # self.labels = torch.from_numpy(np.array(file.keys()))\n",
    "            self.data = torch.from_numpy(np.array(file.values()))\n",
    "\n",
    "    def __len__(self):\n",
    "        return len(self.data)\n",
    "\n",
    "    def __getitem__(self, idx):\n",
    "        return self.data[idx]"
   ],
   "metadata": {
    "collapsed": false,
    "ExecuteTime": {
     "end_time": "2024-03-14T02:27:52.246886Z",
     "start_time": "2024-03-14T02:27:52.244331Z"
    }
   },
   "id": "2386b10e1ab05da",
   "execution_count": 34
  },
  {
   "cell_type": "code",
   "outputs": [
    {
     "ename": "TypeError",
     "evalue": "float() argument must be a string or a real number, not 'ValuesViewHDF5'",
     "output_type": "error",
     "traceback": [
      "\u001B[0;31m---------------------------------------------------------------------------\u001B[0m",
      "\u001B[0;31mTypeError\u001B[0m                                 Traceback (most recent call last)",
      "Cell \u001B[0;32mIn[35], line 1\u001B[0m\n\u001B[0;32m----> 1\u001B[0m \u001B[43mH5Dataset\u001B[49m\u001B[43m(\u001B[49m\u001B[38;5;124;43m\"\u001B[39;49m\u001B[38;5;124;43mlibrary/per-protein.h5\u001B[39;49m\u001B[38;5;124;43m\"\u001B[39;49m\u001B[43m)\u001B[49m\n",
      "Cell \u001B[0;32mIn[34], line 12\u001B[0m, in \u001B[0;36mH5Dataset.__init__\u001B[0;34m(self, h5_file)\u001B[0m\n\u001B[1;32m      9\u001B[0m \u001B[38;5;28mself\u001B[39m\u001B[38;5;241m.\u001B[39mh5_file \u001B[38;5;241m=\u001B[39m h5_file\n\u001B[1;32m     10\u001B[0m \u001B[38;5;28;01mwith\u001B[39;00m h5py\u001B[38;5;241m.\u001B[39mFile(h5_file, \u001B[38;5;124m'\u001B[39m\u001B[38;5;124mr\u001B[39m\u001B[38;5;124m'\u001B[39m) \u001B[38;5;28;01mas\u001B[39;00m file:\n\u001B[1;32m     11\u001B[0m     \u001B[38;5;66;03m# self.labels = torch.from_numpy(np.array(file.keys()))\u001B[39;00m\n\u001B[0;32m---> 12\u001B[0m     \u001B[38;5;28mself\u001B[39m\u001B[38;5;241m.\u001B[39mdata \u001B[38;5;241m=\u001B[39m torch\u001B[38;5;241m.\u001B[39mfrom_numpy(\u001B[43mnp\u001B[49m\u001B[38;5;241;43m.\u001B[39;49m\u001B[43marray\u001B[49m\u001B[43m(\u001B[49m\u001B[43mfile\u001B[49m\u001B[38;5;241;43m.\u001B[39;49m\u001B[43mvalues\u001B[49m\u001B[43m(\u001B[49m\u001B[43m)\u001B[49m\u001B[43m,\u001B[49m\u001B[43m \u001B[49m\u001B[43mdtype\u001B[49m\u001B[38;5;241;43m=\u001B[39;49m\u001B[43mnp\u001B[49m\u001B[38;5;241;43m.\u001B[39;49m\u001B[43mfloat32\u001B[49m\u001B[43m)\u001B[49m)\n",
      "\u001B[0;31mTypeError\u001B[0m: float() argument must be a string or a real number, not 'ValuesViewHDF5'"
     ]
    }
   ],
   "source": [
    "H5Dataset(\"library/per-protein.h5\")"
   ],
   "metadata": {
    "collapsed": false,
    "ExecuteTime": {
     "end_time": "2024-03-14T02:27:52.662319Z",
     "start_time": "2024-03-14T02:27:52.646334Z"
    }
   },
   "id": "274eee6d07a8537c",
   "execution_count": 35
  },
  {
   "cell_type": "code",
   "outputs": [
    {
     "ename": "AttributeError",
     "evalue": "'File' object has no attribute 'readlines'",
     "output_type": "error",
     "traceback": [
      "\u001B[0;31m---------------------------------------------------------------------------\u001B[0m",
      "\u001B[0;31mAttributeError\u001B[0m                            Traceback (most recent call last)",
      "Cell \u001B[0;32mIn[37], line 2\u001B[0m\n\u001B[1;32m      1\u001B[0m \u001B[38;5;28;01mwith\u001B[39;00m h5py\u001B[38;5;241m.\u001B[39mFile(\u001B[38;5;124m\"\u001B[39m\u001B[38;5;124mlibrary/per-protein.h5\u001B[39m\u001B[38;5;124m\"\u001B[39m, \u001B[38;5;124m\"\u001B[39m\u001B[38;5;124mr\u001B[39m\u001B[38;5;124m\"\u001B[39m) \u001B[38;5;28;01mas\u001B[39;00m file:\n\u001B[0;32m----> 2\u001B[0m     lines \u001B[38;5;241m=\u001B[39m \u001B[43mfile\u001B[49m\u001B[38;5;241;43m.\u001B[39;49m\u001B[43mreadlines\u001B[49m()\n\u001B[1;32m      3\u001B[0m     seq_embedding \u001B[38;5;241m=\u001B[39m {line\u001B[38;5;241m.\u001B[39msplit()[\u001B[38;5;241m0\u001B[39m]: np\u001B[38;5;241m.\u001B[39marray(line\u001B[38;5;241m.\u001B[39msplit()[\u001B[38;5;241m1\u001B[39m:]) \u001B[38;5;28;01mfor\u001B[39;00m line \u001B[38;5;129;01min\u001B[39;00m lines}\n",
      "\u001B[0;31mAttributeError\u001B[0m: 'File' object has no attribute 'readlines'"
     ]
    }
   ],
   "source": [
    "\n",
    "with h5py.File(\"library/per-protein.h5\", \"r\") as file:\n",
    "    lines = file.readlines()\n",
    "    seq_embedding = {line.split()[0]: np.array(line.split()[1:]) for line in lines}\n",
    " "
   ],
   "metadata": {
    "collapsed": false,
    "ExecuteTime": {
     "end_time": "2024-03-14T03:03:11.713388Z",
     "start_time": "2024-03-14T03:03:11.703281Z"
    }
   },
   "id": "a6dc6adddb705aaf",
   "execution_count": 37
  },
  {
   "cell_type": "code",
   "outputs": [],
   "source": [],
   "metadata": {
    "collapsed": false
   },
   "id": "72f0da41f8639864"
  }
 ],
 "metadata": {
  "kernelspec": {
   "display_name": "Python 3",
   "language": "python",
   "name": "python3"
  },
  "language_info": {
   "codemirror_mode": {
    "name": "ipython",
    "version": 2
   },
   "file_extension": ".py",
   "mimetype": "text/x-python",
   "name": "python",
   "nbconvert_exporter": "python",
   "pygments_lexer": "ipython2",
   "version": "2.7.6"
  }
 },
 "nbformat": 4,
 "nbformat_minor": 5
}
