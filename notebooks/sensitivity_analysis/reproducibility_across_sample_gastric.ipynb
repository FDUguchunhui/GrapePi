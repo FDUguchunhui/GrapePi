{
 "cells": [
  {
   "cell_type": "code",
   "outputs": [],
   "source": [
    "import os\n",
    "\n",
    "import numpy as np\n",
    "import pandas as pd\n",
    "import gseapy as gp\n",
    "import matplotlib.pyplot as plt\n",
    "import torch_geometric as pyg\n",
    "\n",
    "# enable multiple outputs in one cell\n",
    "from IPython.core.interactiveshell import InteractiveShell\n",
    "InteractiveShell.ast_node_interactivity = \"all\"\n",
    "\n",
    "pyg.seed.seed_everything(1234)"
   ],
   "metadata": {
    "collapsed": false,
    "ExecuteTime": {
     "end_time": "2024-11-13T21:43:28.612227Z",
     "start_time": "2024-11-13T21:43:24.425843Z"
    }
   },
   "id": "387293691425b549",
   "execution_count": 1
  },
  {
   "cell_type": "code",
   "outputs": [
    {
     "name": "stdout",
     "output_type": "stream",
     "text": [
      "/Users/cgu3/Documents/Grape-Pi\n"
     ]
    },
    {
     "name": "stderr",
     "output_type": "stream",
     "text": [
      "/Users/cgu3/miniforge3/envs/grape-pi/lib/python3.11/site-packages/IPython/core/magics/osm.py:417: UserWarning: This is now an optional IPython functionality, setting dhist requires you to install the `pickleshare` library.\n",
      "  self.shell.db['dhist'] = compress_dhist(dhist)[-100:]\n"
     ]
    },
    {
     "data": {
      "text/plain": "'/Users/cgu3/Documents/Grape-Pi'"
     },
     "execution_count": 9,
     "metadata": {},
     "output_type": "execute_result"
    }
   ],
   "source": [
    "%cd /Users/cgu3/Documents/Grape-Pi\n",
    "%pwd\n"
   ],
   "metadata": {
    "collapsed": false,
    "ExecuteTime": {
     "end_time": "2024-11-13T22:31:58.755923Z",
     "start_time": "2024-11-13T22:31:58.745811Z"
    }
   },
   "id": "69a4eeb87e19b8d6",
   "execution_count": 9
  },
  {
   "cell_type": "code",
   "outputs": [
    {
     "name": "stdout",
     "output_type": "stream",
     "text": [
      "GraphsageGraphGymModule(\r\n",
      "  (model): GNN(\r\n",
      "    (encoder): FeatureEncoder()\r\n",
      "    (pre_mp): GeneralMultiLayer(\r\n",
      "      (Layer_0): GeneralLayer(\r\n",
      "        (layer): Linear(\r\n",
      "          (model): Linear(-1, 10, bias=True)\r\n",
      "        )\r\n",
      "        (post_layer): Sequential(\r\n",
      "          (0): ReLU()\r\n",
      "        )\r\n",
      "      )\r\n",
      "    )\r\n",
      "    (mp): GNNStackStage(\r\n",
      "      (layer0): GeneralLayer(\r\n",
      "        (layer): SAGEConv(\r\n",
      "          (model): SAGEConv(10, 10, aggr=mean)\r\n",
      "        )\r\n",
      "        (post_layer): Sequential(\r\n",
      "          (0): ReLU()\r\n",
      "        )\r\n",
      "      )\r\n",
      "    )\r\n",
      "    (post_mp): ExampleNodeHead(\r\n",
      "      (layer_post_mp): MLP(\r\n",
      "        (model): Sequential(\r\n",
      "          (0): Linear(\r\n",
      "            (model): Linear(10, 1, bias=True)\r\n",
      "          )\r\n",
      "        )\r\n",
      "      )\r\n",
      "    )\r\n",
      "  )\r\n",
      ")\r\n",
      "accelerator: cpu\r\n",
      "benchmark: False\r\n",
      "bn:\r\n",
      "  eps: 1e-05\r\n",
      "  mom: 0.1\r\n",
      "cfg_dest: config.yaml\r\n",
      "custom_metrics: []\r\n",
      "dataset:\r\n",
      "  cache_load: False\r\n",
      "  cache_save: False\r\n",
      "  dir: data/gastric_all_data\r\n",
      "  edge_dim: 128\r\n",
      "  edge_encoder: False\r\n",
      "  edge_encoder_bn: True\r\n",
      "  edge_encoder_name: Bond\r\n",
      "  edge_message_ratio: 0.8\r\n",
      "  edge_negative_sampling_ratio: 1.0\r\n",
      "  edge_numeric_cols: None\r\n",
      "  edge_train_mode: all\r\n",
      "  encoder: False\r\n",
      "  encoder_bn: True\r\n",
      "  encoder_dim: 128\r\n",
      "  encoder_name: db\r\n",
      "  format: PyG\r\n",
      "  interaction_conf_col: None\r\n",
      "  interaction_conf_thresh: 400.0\r\n",
      "  interaction_weight_col: None\r\n",
      "  label_col: hard_label_03_07\r\n",
      "  label_column: none\r\n",
      "  label_table: none\r\n",
      "  location: local\r\n",
      "  name: protein\r\n",
      "  node_encoder: False\r\n",
      "  node_encoder_bn: True\r\n",
      "  node_encoder_name: Atom\r\n",
      "  node_numeric_cols: ['protein_probability', 'mRNA_TPM']\r\n",
      "  rebuild: True\r\n",
      "  remove_feature: False\r\n",
      "  resample_disjoint: False\r\n",
      "  resample_negative: False\r\n",
      "  shuffle_split: True\r\n",
      "  split: [0.6, 0.2, 0.2]\r\n",
      "  split_mode: random\r\n",
      "  task: node\r\n",
      "  task_type: classification\r\n",
      "  to_undirected: False\r\n",
      "  transductive: False\r\n",
      "  transform: none\r\n",
      "  tu_simple: True\r\n",
      "devices: None\r\n",
      "gnn:\r\n",
      "  act: relu\r\n",
      "  agg: add\r\n",
      "  att_final_linear: False\r\n",
      "  att_final_linear_bn: False\r\n",
      "  att_heads: 1\r\n",
      "  batchnorm: False\r\n",
      "  clear_feature: True\r\n",
      "  dim_inner: 10\r\n",
      "  dropout: 0.0\r\n",
      "  head: protein\r\n",
      "  keep_edge: 0.5\r\n",
      "  l2norm: True\r\n",
      "  layer_type: sageconv\r\n",
      "  layers_mp: 1\r\n",
      "  layers_post_mp: 1\r\n",
      "  layers_pre_mp: 1\r\n",
      "  msg_direction: single\r\n",
      "  normalize_adj: False\r\n",
      "  self_msg: concat\r\n",
      "  skip_every: 1\r\n",
      "  stage_type: skipsum\r\n",
      "gpu_mem: False\r\n",
      "mem:\r\n",
      "  inplace: False\r\n",
      "metric_agg: argmax\r\n",
      "metric_best: auc\r\n",
      "model:\r\n",
      "  edge_decoding: dot\r\n",
      "  graph_pooling: add\r\n",
      "  loss_fun: binary_cross_entropy_with_weight\r\n",
      "  match_upper: True\r\n",
      "  size_average: mean\r\n",
      "  thresh: 0.5\r\n",
      "  type: gnn\r\n",
      "num_threads: 6\r\n",
      "num_workers: 8\r\n",
      "optim:\r\n",
      "  base_lr: 0.001\r\n",
      "  lr_decay: 0.1\r\n",
      "  max_epoch: 300\r\n",
      "  momentum: 0.9\r\n",
      "  optimizer: adam\r\n",
      "  scheduler: none\r\n",
      "  steps: [30, 60, 90]\r\n",
      "  weight_decay: 0.0005\r\n",
      "out_dir: results\r\n",
      "print: both\r\n",
      "round: 4\r\n",
      "run:\r\n",
      "  mark_done: False\r\n",
      "  name: gastric_sageconv_with_mRNA\r\n",
      "  repeat: 1\r\n",
      "run_dir: results\r\n",
      "seed: 1234\r\n",
      "share:\r\n",
      "  dim_in: -1\r\n",
      "  dim_out: 2\r\n",
      "  num_splits: 1\r\n",
      "tensorboard_agg: True\r\n",
      "tensorboard_each_run: False\r\n",
      "train:\r\n",
      "  auto_resume: False\r\n",
      "  batch_size: 128\r\n",
      "  ckpt_clean: False\r\n",
      "  ckpt_period: 10\r\n",
      "  early_stop: True\r\n",
      "  early_stop_patience: 50\r\n",
      "  enable_ckpt: True\r\n",
      "  epoch_resume: 0\r\n",
      "  eval_period: 10\r\n",
      "  iter_per_epoch: 32\r\n",
      "  neighbor_sizes: [20, 10, 5]\r\n",
      "  node_per_graph: 32\r\n",
      "  pos_weight: -1.0\r\n",
      "  radius: extend\r\n",
      "  sample_node: False\r\n",
      "  sampler: neighbor\r\n",
      "  skip_train_eval: False\r\n",
      "  walk_length: 4\r\n",
      "val:\r\n",
      "  node_per_graph: 32\r\n",
      "  radius: extend\r\n",
      "  sample_node: False\r\n",
      "  sampler: full_batch\r\n",
      "view_emb: False\r\n",
      "Loading checkpoint from results/gastric_sageconv_with_mRNA/1234/ckpt/epoch=151-step=14592.ckpt\r\n",
      "/Users/cgu3/Documents/Grape-Pi/grape_pi.py:92: FutureWarning: You are using `torch.load` with `weights_only=False` (the current default value), which uses the default pickle module implicitly. It is possible to construct malicious pickle data which will execute arbitrary code during unpickling (See https://github.com/pytorch/pytorch/blob/main/SECURITY.md#untrusted-models for more details). In a future release, the default value for `weights_only` will be flipped to `True`. This limits the functions that could be executed during unpickling. Arbitrary objects will no longer be allowed to be loaded via this mode unless they are explicitly allowlisted by the user via `torch.serialization.add_safe_globals`. We recommend you start setting `weights_only=True` for any use case where you don't have full control of the loaded file. Please open an issue on GitHub for any issues related to this experimental feature.\r\n",
      "  model.load_state_dict(torch.load(args.checkpoint)['state_dict'])\r\n",
      "GPU available: True (mps), used: False\r\n",
      "TPU available: False, using: 0 TPU cores\r\n",
      "HPU available: False, using: 0 HPUs\r\n",
      "/Users/cgu3/miniforge3/envs/grape-pi/lib/python3.11/site-packages/pytorch_lightning/trainer/setup.py:177: GPU available but not used. You can set it by doing `Trainer(accelerator='gpu')`.\r\n",
      "Rebuilding...\r\n",
      "Done!\r\n",
      "Predicting DataLoader 0: 100%|████████████████████| 1/1 [00:00<00:00,  6.30it/s]\r\n",
      "Saving all proteins prediction probability to saved_results/gastric_sageconv_with_mRNA/evaluation/all_proteins.csv\r\n",
      "Top 100 proteins are saved in saved_results/gastric_sageconv_with_mRNA/evaluation/promoted_proteins.csv\r\n"
     ]
    }
   ],
   "source": [
    "!python grape_pi.py --cfg configs/protein/grapepi_sageconv.yaml --threshold 0.9 --num-promoted 100 --output saved_results/gastric_sageconv_with_mRNA/evaluation --override \" 'dataset.node_numeric_cols=[protein_probability, mRNA_TPM]' run.name=gastric_sageconv_with_mRNA\""
   ],
   "metadata": {
    "collapsed": false,
    "ExecuteTime": {
     "end_time": "2024-11-15T19:46:57.141636Z",
     "start_time": "2024-11-15T19:46:46.260242Z"
    }
   },
   "id": "bf6e66843dd1d10f",
   "execution_count": 201
  },
  {
   "cell_type": "code",
   "outputs": [
    {
     "name": "stdout",
     "output_type": "stream",
     "text": [
      "GraphsageGraphGymModule(\r\n",
      "  (model): GNN(\r\n",
      "    (encoder): FeatureEncoder()\r\n",
      "    (pre_mp): GeneralMultiLayer(\r\n",
      "      (Layer_0): GeneralLayer(\r\n",
      "        (layer): Linear(\r\n",
      "          (model): Linear(-1, 10, bias=True)\r\n",
      "        )\r\n",
      "        (post_layer): Sequential(\r\n",
      "          (0): ReLU()\r\n",
      "        )\r\n",
      "      )\r\n",
      "    )\r\n",
      "    (mp): GNNStackStage(\r\n",
      "      (layer0): GeneralLayer(\r\n",
      "        (layer): SAGEConv(\r\n",
      "          (model): SAGEConv(10, 10, aggr=mean)\r\n",
      "        )\r\n",
      "        (post_layer): Sequential(\r\n",
      "          (0): ReLU()\r\n",
      "        )\r\n",
      "      )\r\n",
      "    )\r\n",
      "    (post_mp): ExampleNodeHead(\r\n",
      "      (layer_post_mp): MLP(\r\n",
      "        (model): Sequential(\r\n",
      "          (0): Linear(\r\n",
      "            (model): Linear(10, 1, bias=True)\r\n",
      "          )\r\n",
      "        )\r\n",
      "      )\r\n",
      "    )\r\n",
      "  )\r\n",
      ")\r\n",
      "accelerator: cpu\r\n",
      "benchmark: False\r\n",
      "bn:\r\n",
      "  eps: 1e-05\r\n",
      "  mom: 0.1\r\n",
      "cfg_dest: config.yaml\r\n",
      "custom_metrics: []\r\n",
      "dataset:\r\n",
      "  cache_load: False\r\n",
      "  cache_save: False\r\n",
      "  dir: data/gastric_test_data\r\n",
      "  edge_dim: 128\r\n",
      "  edge_encoder: False\r\n",
      "  edge_encoder_bn: True\r\n",
      "  edge_encoder_name: Bond\r\n",
      "  edge_message_ratio: 0.8\r\n",
      "  edge_negative_sampling_ratio: 1.0\r\n",
      "  edge_numeric_cols: None\r\n",
      "  edge_train_mode: all\r\n",
      "  encoder: False\r\n",
      "  encoder_bn: True\r\n",
      "  encoder_dim: 128\r\n",
      "  encoder_name: db\r\n",
      "  format: PyG\r\n",
      "  interaction_conf_col: None\r\n",
      "  interaction_conf_thresh: 400.0\r\n",
      "  interaction_weight_col: None\r\n",
      "  label_col: protein_probability\r\n",
      "  label_column: none\r\n",
      "  label_table: none\r\n",
      "  location: local\r\n",
      "  name: protein\r\n",
      "  node_encoder: False\r\n",
      "  node_encoder_bn: True\r\n",
      "  node_encoder_name: Atom\r\n",
      "  node_numeric_cols: ['protein_probability', 'mRNA_TPM']\r\n",
      "  rebuild: True\r\n",
      "  remove_feature: False\r\n",
      "  resample_disjoint: False\r\n",
      "  resample_negative: False\r\n",
      "  shuffle_split: True\r\n",
      "  split: [0.6, 0.2, 0.2]\r\n",
      "  split_mode: random\r\n",
      "  task: node\r\n",
      "  task_type: classification\r\n",
      "  to_undirected: False\r\n",
      "  transductive: False\r\n",
      "  transform: none\r\n",
      "  tu_simple: True\r\n",
      "devices: None\r\n",
      "gnn:\r\n",
      "  act: relu\r\n",
      "  agg: add\r\n",
      "  att_final_linear: False\r\n",
      "  att_final_linear_bn: False\r\n",
      "  att_heads: 1\r\n",
      "  batchnorm: False\r\n",
      "  clear_feature: True\r\n",
      "  dim_inner: 10\r\n",
      "  dropout: 0.0\r\n",
      "  head: protein\r\n",
      "  keep_edge: 0.5\r\n",
      "  l2norm: True\r\n",
      "  layer_type: sageconv\r\n",
      "  layers_mp: 1\r\n",
      "  layers_post_mp: 1\r\n",
      "  layers_pre_mp: 1\r\n",
      "  msg_direction: single\r\n",
      "  normalize_adj: False\r\n",
      "  self_msg: concat\r\n",
      "  skip_every: 1\r\n",
      "  stage_type: skipsum\r\n",
      "gpu_mem: False\r\n",
      "mem:\r\n",
      "  inplace: False\r\n",
      "metric_agg: argmax\r\n",
      "metric_best: auc\r\n",
      "model:\r\n",
      "  edge_decoding: dot\r\n",
      "  graph_pooling: add\r\n",
      "  loss_fun: binary_cross_entropy_with_weight\r\n",
      "  match_upper: True\r\n",
      "  size_average: mean\r\n",
      "  thresh: 0.5\r\n",
      "  type: gnn\r\n",
      "num_threads: 6\r\n",
      "num_workers: 8\r\n",
      "optim:\r\n",
      "  base_lr: 0.001\r\n",
      "  lr_decay: 0.1\r\n",
      "  max_epoch: 300\r\n",
      "  momentum: 0.9\r\n",
      "  optimizer: adam\r\n",
      "  scheduler: none\r\n",
      "  steps: [30, 60, 90]\r\n",
      "  weight_decay: 0.0005\r\n",
      "out_dir: results\r\n",
      "print: both\r\n",
      "round: 4\r\n",
      "run:\r\n",
      "  mark_done: False\r\n",
      "  name: gastric_sage_conv_with_mRNA\r\n",
      "  repeat: 1\r\n",
      "run_dir: results\r\n",
      "seed: 1234\r\n",
      "share:\r\n",
      "  dim_in: -1\r\n",
      "  dim_out: 2\r\n",
      "  num_splits: 1\r\n",
      "tensorboard_agg: True\r\n",
      "tensorboard_each_run: False\r\n",
      "train:\r\n",
      "  auto_resume: False\r\n",
      "  batch_size: 128\r\n",
      "  ckpt_clean: False\r\n",
      "  ckpt_period: 10\r\n",
      "  early_stop: True\r\n",
      "  early_stop_patience: 50\r\n",
      "  enable_ckpt: True\r\n",
      "  epoch_resume: 0\r\n",
      "  eval_period: 10\r\n",
      "  iter_per_epoch: 32\r\n",
      "  neighbor_sizes: [20, 10, 5]\r\n",
      "  node_per_graph: 32\r\n",
      "  pos_weight: -1.0\r\n",
      "  radius: extend\r\n",
      "  sample_node: False\r\n",
      "  sampler: neighbor\r\n",
      "  skip_train_eval: False\r\n",
      "  walk_length: 4\r\n",
      "val:\r\n",
      "  node_per_graph: 32\r\n",
      "  radius: extend\r\n",
      "  sample_node: False\r\n",
      "  sampler: full_batch\r\n",
      "view_emb: False\r\n",
      "Loading checkpoint from results/gastric_sageconv_with_mRNA/1234/ckpt/epoch=151-step=14592.ckpt\r\n",
      "/Users/cgu3/Documents/Grape-Pi/grape_pi.py:92: FutureWarning: You are using `torch.load` with `weights_only=False` (the current default value), which uses the default pickle module implicitly. It is possible to construct malicious pickle data which will execute arbitrary code during unpickling (See https://github.com/pytorch/pytorch/blob/main/SECURITY.md#untrusted-models for more details). In a future release, the default value for `weights_only` will be flipped to `True`. This limits the functions that could be executed during unpickling. Arbitrary objects will no longer be allowed to be loaded via this mode unless they are explicitly allowlisted by the user via `torch.serialization.add_safe_globals`. We recommend you start setting `weights_only=True` for any use case where you don't have full control of the loaded file. Please open an issue on GitHub for any issues related to this experimental feature.\r\n",
      "  model.load_state_dict(torch.load(args.checkpoint)['state_dict'])\r\n",
      "GPU available: True (mps), used: False\r\n",
      "TPU available: False, using: 0 TPU cores\r\n",
      "HPU available: False, using: 0 HPUs\r\n",
      "/Users/cgu3/miniforge3/envs/grape-pi/lib/python3.11/site-packages/pytorch_lightning/trainer/setup.py:177: GPU available but not used. You can set it by doing `Trainer(accelerator='gpu')`.\r\n",
      "Rebuilding...\r\n",
      "Traceback (most recent call last):\r\n",
      "  File \"/Users/cgu3/Documents/Grape-Pi/grape_pi.py\", line 172, in <module>\r\n",
      "    main()\r\n",
      "  File \"/Users/cgu3/Documents/Grape-Pi/grape_pi.py\", line 127, in main\r\n",
      "    prediction = trainer.predict(model)\r\n",
      "                 ^^^^^^^^^^^^^^^^^^^^^^\r\n",
      "  File \"/Users/cgu3/miniforge3/envs/grape-pi/lib/python3.11/site-packages/pytorch_lightning/trainer/trainer.py\", line 858, in predict\r\n",
      "    return call._call_and_handle_interrupt(\r\n",
      "           ^^^^^^^^^^^^^^^^^^^^^^^^^^^^^^^^\r\n",
      "  File \"/Users/cgu3/miniforge3/envs/grape-pi/lib/python3.11/site-packages/pytorch_lightning/trainer/call.py\", line 47, in _call_and_handle_interrupt\r\n",
      "    return trainer_fn(*args, **kwargs)\r\n",
      "           ^^^^^^^^^^^^^^^^^^^^^^^^^^^\r\n",
      "  File \"/Users/cgu3/miniforge3/envs/grape-pi/lib/python3.11/site-packages/pytorch_lightning/trainer/trainer.py\", line 897, in _predict_impl\r\n",
      "    results = self._run(model, ckpt_path=ckpt_path)\r\n",
      "              ^^^^^^^^^^^^^^^^^^^^^^^^^^^^^^^^^^^^^\r\n",
      "  File \"/Users/cgu3/miniforge3/envs/grape-pi/lib/python3.11/site-packages/pytorch_lightning/trainer/trainer.py\", line 981, in _run\r\n",
      "    results = self._run_stage()\r\n",
      "              ^^^^^^^^^^^^^^^^^\r\n",
      "  File \"/Users/cgu3/miniforge3/envs/grape-pi/lib/python3.11/site-packages/pytorch_lightning/trainer/trainer.py\", line 1020, in _run_stage\r\n",
      "    return self.predict_loop.run()\r\n",
      "           ^^^^^^^^^^^^^^^^^^^^^^^\r\n",
      "  File \"/Users/cgu3/miniforge3/envs/grape-pi/lib/python3.11/site-packages/pytorch_lightning/loops/utilities.py\", line 178, in _decorator\r\n",
      "    return loop_run(self, *args, **kwargs)\r\n",
      "           ^^^^^^^^^^^^^^^^^^^^^^^^^^^^^^^\r\n",
      "  File \"/Users/cgu3/miniforge3/envs/grape-pi/lib/python3.11/site-packages/pytorch_lightning/loops/prediction_loop.py\", line 104, in run\r\n",
      "    self.setup_data()\r\n",
      "  File \"/Users/cgu3/miniforge3/envs/grape-pi/lib/python3.11/site-packages/pytorch_lightning/loops/prediction_loop.py\", line 139, in setup_data\r\n",
      "    dataloaders = _request_dataloader(source)\r\n",
      "                  ^^^^^^^^^^^^^^^^^^^^^^^^^^^\r\n",
      "  File \"/Users/cgu3/miniforge3/envs/grape-pi/lib/python3.11/site-packages/pytorch_lightning/trainer/connectors/data_connector.py\", line 325, in _request_dataloader\r\n",
      "    return data_source.dataloader()\r\n",
      "           ^^^^^^^^^^^^^^^^^^^^^^^^\r\n",
      "  File \"/Users/cgu3/miniforge3/envs/grape-pi/lib/python3.11/site-packages/pytorch_lightning/trainer/connectors/data_connector.py\", line 289, in dataloader\r\n",
      "    return call._call_lightning_module_hook(self.instance.trainer, self.name, pl_module=self.instance)\r\n",
      "           ^^^^^^^^^^^^^^^^^^^^^^^^^^^^^^^^^^^^^^^^^^^^^^^^^^^^^^^^^^^^^^^^^^^^^^^^^^^^^^^^^^^^^^^^^^^\r\n",
      "  File \"/Users/cgu3/miniforge3/envs/grape-pi/lib/python3.11/site-packages/pytorch_lightning/trainer/call.py\", line 167, in _call_lightning_module_hook\r\n",
      "    output = fn(*args, **kwargs)\r\n",
      "             ^^^^^^^^^^^^^^^^^^^\r\n",
      "  File \"/Users/cgu3/Documents/Grape-Pi/grapepi/custom_graphgym/train/graphsage_model_builder.py\", line 75, in predict_dataloader\r\n",
      "    dataset = ProteinDataset(root=cfg.dataset.dir, rebuild=True,\r\n",
      "              ^^^^^^^^^^^^^^^^^^^^^^^^^^^^^^^^^^^^^^^^^^^^^^^^^^\r\n",
      "  File \"/Users/cgu3/Documents/Grape-Pi/grapepi/custom_graphgym/loader/protein.py\", line 85, in __init__\r\n",
      "    super().__init__(root, transform, pre_transform, pre_filter)\r\n",
      "  File \"/Users/cgu3/miniforge3/envs/grape-pi/lib/python3.11/site-packages/torch_geometric/data/in_memory_dataset.py\", line 81, in __init__\r\n",
      "    super().__init__(root, transform, pre_transform, pre_filter, log,\r\n",
      "  File \"/Users/cgu3/miniforge3/envs/grape-pi/lib/python3.11/site-packages/torch_geometric/data/dataset.py\", line 115, in __init__\r\n",
      "    self._process()\r\n",
      "  File \"/Users/cgu3/Documents/Grape-Pi/grapepi/custom_graphgym/loader/protein.py\", line 343, in _process\r\n",
      "    self.process()\r\n",
      "  File \"/Users/cgu3/Documents/Grape-Pi/grapepi/custom_graphgym/loader/protein.py\", line 104, in process\r\n",
      "    data_list = [self._process_protein_file(protein_file) for protein_file in self.raw_paths['protein']]\r\n",
      "                ^^^^^^^^^^^^^^^^^^^^^^^^^^^^^^^^^^^^^^^^^^^^^^^^^^^^^^^^^^^^^^^^^^^^^^^^^^^^^^^^^^^^^^^^\r\n",
      "  File \"/Users/cgu3/Documents/Grape-Pi/grapepi/custom_graphgym/loader/protein.py\", line 104, in <listcomp>\r\n",
      "    data_list = [self._process_protein_file(protein_file) for protein_file in self.raw_paths['protein']]\r\n",
      "                 ^^^^^^^^^^^^^^^^^^^^^^^^^^^^^^^^^^^^^^^^\r\n",
      "  File \"/Users/cgu3/Documents/Grape-Pi/grapepi/custom_graphgym/loader/protein.py\", line 139, in _process_protein_file\r\n",
      "    x, mapping, y, unlabeled_mask = self._load_node_csv(path=protein_filename)\r\n",
      "                                    ^^^^^^^^^^^^^^^^^^^^^^^^^^^^^^^^^^^^^^^^^^\r\n",
      "  File \"/Users/cgu3/Documents/Grape-Pi/grapepi/custom_graphgym/loader/protein.py\", line 215, in _load_node_csv\r\n",
      "    x = torch.tensor(df.loc[:, self.node_numeric_cols].values, dtype=torch.float)\r\n",
      "                     ~~~~~~^^^^^^^^^^^^^^^^^^^^^^^^^^^\r\n",
      "  File \"/Users/cgu3/miniforge3/envs/grape-pi/lib/python3.11/site-packages/pandas/core/indexing.py\", line 1184, in __getitem__\r\n",
      "    return self._getitem_tuple(key)\r\n",
      "           ^^^^^^^^^^^^^^^^^^^^^^^^\r\n",
      "  File \"/Users/cgu3/miniforge3/envs/grape-pi/lib/python3.11/site-packages/pandas/core/indexing.py\", line 1377, in _getitem_tuple\r\n",
      "    return self._getitem_tuple_same_dim(tup)\r\n",
      "           ^^^^^^^^^^^^^^^^^^^^^^^^^^^^^^^^^\r\n",
      "  File \"/Users/cgu3/miniforge3/envs/grape-pi/lib/python3.11/site-packages/pandas/core/indexing.py\", line 1020, in _getitem_tuple_same_dim\r\n",
      "    retval = getattr(retval, self.name)._getitem_axis(key, axis=i)\r\n",
      "             ^^^^^^^^^^^^^^^^^^^^^^^^^^^^^^^^^^^^^^^^^^^^^^^^^^^^^\r\n",
      "  File \"/Users/cgu3/miniforge3/envs/grape-pi/lib/python3.11/site-packages/pandas/core/indexing.py\", line 1420, in _getitem_axis\r\n",
      "    return self._getitem_iterable(key, axis=axis)\r\n",
      "           ^^^^^^^^^^^^^^^^^^^^^^^^^^^^^^^^^^^^^^\r\n",
      "  File \"/Users/cgu3/miniforge3/envs/grape-pi/lib/python3.11/site-packages/pandas/core/indexing.py\", line 1360, in _getitem_iterable\r\n",
      "    keyarr, indexer = self._get_listlike_indexer(key, axis)\r\n",
      "                      ^^^^^^^^^^^^^^^^^^^^^^^^^^^^^^^^^^^^^\r\n",
      "  File \"/Users/cgu3/miniforge3/envs/grape-pi/lib/python3.11/site-packages/pandas/core/indexing.py\", line 1558, in _get_listlike_indexer\r\n",
      "    keyarr, indexer = ax._get_indexer_strict(key, axis_name)\r\n",
      "                      ^^^^^^^^^^^^^^^^^^^^^^^^^^^^^^^^^^^^^^\r\n",
      "  File \"/Users/cgu3/miniforge3/envs/grape-pi/lib/python3.11/site-packages/pandas/core/indexes/base.py\", line 6200, in _get_indexer_strict\r\n",
      "    self._raise_if_missing(keyarr, indexer, axis_name)\r\n",
      "  File \"/Users/cgu3/miniforge3/envs/grape-pi/lib/python3.11/site-packages/pandas/core/indexes/base.py\", line 6252, in _raise_if_missing\r\n",
      "    raise KeyError(f\"{not_found} not in index\")\r\n",
      "KeyError: \"['mRNA_TPM'] not in index\"\r\n"
     ]
    }
   ],
   "source": [
    "!python grape_pi.py --cfg configs/protein/grapepi_sageconv.yaml --checkpoint results/gastric_sageconv_with_mRNA/1234/ckpt/epoch=151-step=14592.ckpt  --threshold 0.9 --num-promoted 100 --output saved_results/gastric_sageconv_with_mRNA/evaluation_test --override \"dataset.dir=data/gastric_test_data 'dataset.node_numeric_cols=[protein_probability, mRNA_TPM]' run.name=gastric_sage_conv_with_mRNA dataset.label_col=protein_probability\""
   ],
   "metadata": {
    "collapsed": false,
    "ExecuteTime": {
     "end_time": "2024-11-15T19:47:26.100509Z",
     "start_time": "2024-11-15T19:47:21.728684Z"
    }
   },
   "id": "f4b43c613813e731",
   "execution_count": 202
  },
  {
   "cell_type": "code",
   "outputs": [
    {
     "data": {
      "text/plain": "        accession  pred_prob protein.Accession  protein_probability  \\\n0      A0A024RBG1   0.890145        A0A024RBG1             0.890032   \n1      A0A075B6H7   0.537205        A0A075B6H7             0.700122   \n2      A0A075B6H8   0.313646        A0A075B6H8             0.286947   \n3      A0A075B6L6   0.797134        A0A075B6L6             0.943529   \n4      A0A075B6N1   0.314290        A0A075B6N1             0.289680   \n...           ...        ...               ...                  ...   \n20421      Q9UI54   0.109656            Q9UI54             0.000000   \n20422      Q9Y3F1   0.109656            Q9Y3F1             0.000000   \n20423      Q9Y6C7   0.109656            Q9Y6C7             0.000000   \n20424      Q9Y6Z2   0.109656            Q9Y6Z2             0.000000   \n20425      X6R8R1   0.109656            X6R8R1             0.000000   \n\n       protein_probability_soft_label gene_symbol  mRNA_TPM  hard_label_04_06  \\\n0                            0.667430      NUDT4B    0.0000               1.0   \n1                            0.267383     IGKV3-7    0.0000               0.0   \n2                            0.056265   IGKV1D-42    0.0000               0.0   \n3                            0.140940     TRBV7-3    0.0000               0.0   \n4                            0.153119      TRBV19    0.0000               0.0   \n...                               ...         ...       ...               ...   \n20421                        0.000000           0    0.0000               0.0   \n20422                        0.197423           0    0.0000               0.0   \n20423                        0.093179   LINC00312    0.0000               0.0   \n20424                        0.000000   LINC01558    0.0531               0.0   \n20425                        0.283767      SYT15B    0.0000               0.0   \n\n       hard_label_03_07  hard_label_02_08  \n0                   NaN               NaN  \n1                   0.0               NaN  \n2                   0.0               0.0  \n3                   0.0               0.0  \n4                   0.0               0.0  \n...                 ...               ...  \n20421               0.0               0.0  \n20422               0.0               0.0  \n20423               0.0               0.0  \n20424               0.0               0.0  \n20425               0.0               NaN  \n\n[20426 rows x 10 columns]",
      "text/html": "<div>\n<style scoped>\n    .dataframe tbody tr th:only-of-type {\n        vertical-align: middle;\n    }\n\n    .dataframe tbody tr th {\n        vertical-align: top;\n    }\n\n    .dataframe thead th {\n        text-align: right;\n    }\n</style>\n<table border=\"1\" class=\"dataframe\">\n  <thead>\n    <tr style=\"text-align: right;\">\n      <th></th>\n      <th>accession</th>\n      <th>pred_prob</th>\n      <th>protein.Accession</th>\n      <th>protein_probability</th>\n      <th>protein_probability_soft_label</th>\n      <th>gene_symbol</th>\n      <th>mRNA_TPM</th>\n      <th>hard_label_04_06</th>\n      <th>hard_label_03_07</th>\n      <th>hard_label_02_08</th>\n    </tr>\n  </thead>\n  <tbody>\n    <tr>\n      <th>0</th>\n      <td>A0A024RBG1</td>\n      <td>0.890145</td>\n      <td>A0A024RBG1</td>\n      <td>0.890032</td>\n      <td>0.667430</td>\n      <td>NUDT4B</td>\n      <td>0.0000</td>\n      <td>1.0</td>\n      <td>NaN</td>\n      <td>NaN</td>\n    </tr>\n    <tr>\n      <th>1</th>\n      <td>A0A075B6H7</td>\n      <td>0.537205</td>\n      <td>A0A075B6H7</td>\n      <td>0.700122</td>\n      <td>0.267383</td>\n      <td>IGKV3-7</td>\n      <td>0.0000</td>\n      <td>0.0</td>\n      <td>0.0</td>\n      <td>NaN</td>\n    </tr>\n    <tr>\n      <th>2</th>\n      <td>A0A075B6H8</td>\n      <td>0.313646</td>\n      <td>A0A075B6H8</td>\n      <td>0.286947</td>\n      <td>0.056265</td>\n      <td>IGKV1D-42</td>\n      <td>0.0000</td>\n      <td>0.0</td>\n      <td>0.0</td>\n      <td>0.0</td>\n    </tr>\n    <tr>\n      <th>3</th>\n      <td>A0A075B6L6</td>\n      <td>0.797134</td>\n      <td>A0A075B6L6</td>\n      <td>0.943529</td>\n      <td>0.140940</td>\n      <td>TRBV7-3</td>\n      <td>0.0000</td>\n      <td>0.0</td>\n      <td>0.0</td>\n      <td>0.0</td>\n    </tr>\n    <tr>\n      <th>4</th>\n      <td>A0A075B6N1</td>\n      <td>0.314290</td>\n      <td>A0A075B6N1</td>\n      <td>0.289680</td>\n      <td>0.153119</td>\n      <td>TRBV19</td>\n      <td>0.0000</td>\n      <td>0.0</td>\n      <td>0.0</td>\n      <td>0.0</td>\n    </tr>\n    <tr>\n      <th>...</th>\n      <td>...</td>\n      <td>...</td>\n      <td>...</td>\n      <td>...</td>\n      <td>...</td>\n      <td>...</td>\n      <td>...</td>\n      <td>...</td>\n      <td>...</td>\n      <td>...</td>\n    </tr>\n    <tr>\n      <th>20421</th>\n      <td>Q9UI54</td>\n      <td>0.109656</td>\n      <td>Q9UI54</td>\n      <td>0.000000</td>\n      <td>0.000000</td>\n      <td>0</td>\n      <td>0.0000</td>\n      <td>0.0</td>\n      <td>0.0</td>\n      <td>0.0</td>\n    </tr>\n    <tr>\n      <th>20422</th>\n      <td>Q9Y3F1</td>\n      <td>0.109656</td>\n      <td>Q9Y3F1</td>\n      <td>0.000000</td>\n      <td>0.197423</td>\n      <td>0</td>\n      <td>0.0000</td>\n      <td>0.0</td>\n      <td>0.0</td>\n      <td>0.0</td>\n    </tr>\n    <tr>\n      <th>20423</th>\n      <td>Q9Y6C7</td>\n      <td>0.109656</td>\n      <td>Q9Y6C7</td>\n      <td>0.000000</td>\n      <td>0.093179</td>\n      <td>LINC00312</td>\n      <td>0.0000</td>\n      <td>0.0</td>\n      <td>0.0</td>\n      <td>0.0</td>\n    </tr>\n    <tr>\n      <th>20424</th>\n      <td>Q9Y6Z2</td>\n      <td>0.109656</td>\n      <td>Q9Y6Z2</td>\n      <td>0.000000</td>\n      <td>0.000000</td>\n      <td>LINC01558</td>\n      <td>0.0531</td>\n      <td>0.0</td>\n      <td>0.0</td>\n      <td>0.0</td>\n    </tr>\n    <tr>\n      <th>20425</th>\n      <td>X6R8R1</td>\n      <td>0.109656</td>\n      <td>X6R8R1</td>\n      <td>0.000000</td>\n      <td>0.283767</td>\n      <td>SYT15B</td>\n      <td>0.0000</td>\n      <td>0.0</td>\n      <td>0.0</td>\n      <td>NaN</td>\n    </tr>\n  </tbody>\n</table>\n<p>20426 rows × 10 columns</p>\n</div>"
     },
     "execution_count": 171,
     "metadata": {},
     "output_type": "execute_result"
    }
   ],
   "source": [
    "first_data = pd.read_csv('saved_results/gastric-sageconv/evaluation/all_proteins.csv')\n",
    "first_data"
   ],
   "metadata": {
    "collapsed": false,
    "ExecuteTime": {
     "end_time": "2024-11-13T23:23:40.948978Z",
     "start_time": "2024-11-13T23:23:40.917737Z"
    }
   },
   "id": "51928a43af9dd356",
   "execution_count": 171
  },
  {
   "cell_type": "code",
   "outputs": [
    {
     "data": {
      "text/plain": "        accession  pred_prob protein.Accession  protein_probability  \\\n0      A0A024RBG1   0.983360        A0A024RBG1             0.999766   \n1      A0A075B6H7   0.169146        A0A075B6H7             0.000000   \n2      A0A075B6H8   0.728425        A0A075B6H8             0.166500   \n3      A0A075B6L6   0.504430        A0A075B6L6             0.000000   \n4      A0A075B6N1   0.342607        A0A075B6N1             0.000000   \n...           ...        ...               ...                  ...   \n20421      Q9UI54   0.109656            Q9UI54             0.000000   \n20422      Q9Y3F1   0.109656            Q9Y3F1             0.748260   \n20423      Q9Y6C7   0.109656            Q9Y6C7             0.000000   \n20424      Q9Y6Z2   0.109656            Q9Y6Z2             0.000000   \n20425      X6R8R1   0.109656            X6R8R1             0.769844   \n\n       protein_probability_soft_label  \n0                            0.667430  \n1                            0.267383  \n2                            0.056265  \n3                            0.140940  \n4                            0.153119  \n...                               ...  \n20421                        0.000000  \n20422                        0.197423  \n20423                        0.093179  \n20424                        0.000000  \n20425                        0.283767  \n\n[20426 rows x 5 columns]",
      "text/html": "<div>\n<style scoped>\n    .dataframe tbody tr th:only-of-type {\n        vertical-align: middle;\n    }\n\n    .dataframe tbody tr th {\n        vertical-align: top;\n    }\n\n    .dataframe thead th {\n        text-align: right;\n    }\n</style>\n<table border=\"1\" class=\"dataframe\">\n  <thead>\n    <tr style=\"text-align: right;\">\n      <th></th>\n      <th>accession</th>\n      <th>pred_prob</th>\n      <th>protein.Accession</th>\n      <th>protein_probability</th>\n      <th>protein_probability_soft_label</th>\n    </tr>\n  </thead>\n  <tbody>\n    <tr>\n      <th>0</th>\n      <td>A0A024RBG1</td>\n      <td>0.983360</td>\n      <td>A0A024RBG1</td>\n      <td>0.999766</td>\n      <td>0.667430</td>\n    </tr>\n    <tr>\n      <th>1</th>\n      <td>A0A075B6H7</td>\n      <td>0.169146</td>\n      <td>A0A075B6H7</td>\n      <td>0.000000</td>\n      <td>0.267383</td>\n    </tr>\n    <tr>\n      <th>2</th>\n      <td>A0A075B6H8</td>\n      <td>0.728425</td>\n      <td>A0A075B6H8</td>\n      <td>0.166500</td>\n      <td>0.056265</td>\n    </tr>\n    <tr>\n      <th>3</th>\n      <td>A0A075B6L6</td>\n      <td>0.504430</td>\n      <td>A0A075B6L6</td>\n      <td>0.000000</td>\n      <td>0.140940</td>\n    </tr>\n    <tr>\n      <th>4</th>\n      <td>A0A075B6N1</td>\n      <td>0.342607</td>\n      <td>A0A075B6N1</td>\n      <td>0.000000</td>\n      <td>0.153119</td>\n    </tr>\n    <tr>\n      <th>...</th>\n      <td>...</td>\n      <td>...</td>\n      <td>...</td>\n      <td>...</td>\n      <td>...</td>\n    </tr>\n    <tr>\n      <th>20421</th>\n      <td>Q9UI54</td>\n      <td>0.109656</td>\n      <td>Q9UI54</td>\n      <td>0.000000</td>\n      <td>0.000000</td>\n    </tr>\n    <tr>\n      <th>20422</th>\n      <td>Q9Y3F1</td>\n      <td>0.109656</td>\n      <td>Q9Y3F1</td>\n      <td>0.748260</td>\n      <td>0.197423</td>\n    </tr>\n    <tr>\n      <th>20423</th>\n      <td>Q9Y6C7</td>\n      <td>0.109656</td>\n      <td>Q9Y6C7</td>\n      <td>0.000000</td>\n      <td>0.093179</td>\n    </tr>\n    <tr>\n      <th>20424</th>\n      <td>Q9Y6Z2</td>\n      <td>0.109656</td>\n      <td>Q9Y6Z2</td>\n      <td>0.000000</td>\n      <td>0.000000</td>\n    </tr>\n    <tr>\n      <th>20425</th>\n      <td>X6R8R1</td>\n      <td>0.109656</td>\n      <td>X6R8R1</td>\n      <td>0.769844</td>\n      <td>0.283767</td>\n    </tr>\n  </tbody>\n</table>\n<p>20426 rows × 5 columns</p>\n</div>"
     },
     "execution_count": 172,
     "metadata": {},
     "output_type": "execute_result"
    }
   ],
   "source": [
    "test_data = pd.read_csv('saved_results/gastric-sageconv/evaluation_test/all_proteins.csv')\n",
    "test_data"
   ],
   "metadata": {
    "collapsed": false,
    "ExecuteTime": {
     "end_time": "2024-11-13T23:23:41.224729Z",
     "start_time": "2024-11-13T23:23:41.210131Z"
    }
   },
   "id": "eb9a0e16f48ddc50",
   "execution_count": 172
  },
  {
   "cell_type": "code",
   "outputs": [
    {
     "data": {
      "text/plain": "9923"
     },
     "execution_count": 173,
     "metadata": {},
     "output_type": "execute_result"
    }
   ],
   "source": [
    "len(first_data[first_data['protein_probability'] <= 0.1])"
   ],
   "metadata": {
    "collapsed": false,
    "ExecuteTime": {
     "end_time": "2024-11-13T23:23:41.547586Z",
     "start_time": "2024-11-13T23:23:41.543925Z"
    }
   },
   "id": "d21a1fcdf5a3715b",
   "execution_count": 173
  },
  {
   "cell_type": "code",
   "outputs": [],
   "source": [],
   "metadata": {
    "collapsed": false,
    "ExecuteTime": {
     "end_time": "2024-11-13T23:23:42.059968Z",
     "start_time": "2024-11-13T23:23:42.058434Z"
    }
   },
   "id": "ab36b18e117e7e0b",
   "execution_count": 173
  },
  {
   "cell_type": "code",
   "outputs": [
    {
     "ename": "KeyError",
     "evalue": "'accession'",
     "output_type": "error",
     "traceback": [
      "\u001B[0;31m---------------------------------------------------------------------------\u001B[0m",
      "\u001B[0;31mKeyError\u001B[0m                                  Traceback (most recent call last)",
      "File \u001B[0;32m~/miniforge3/envs/grape-pi/lib/python3.11/site-packages/pandas/core/indexes/base.py:3805\u001B[0m, in \u001B[0;36mIndex.get_loc\u001B[0;34m(self, key)\u001B[0m\n\u001B[1;32m   3804\u001B[0m \u001B[38;5;28;01mtry\u001B[39;00m:\n\u001B[0;32m-> 3805\u001B[0m     \u001B[38;5;28;01mreturn\u001B[39;00m \u001B[38;5;28;43mself\u001B[39;49m\u001B[38;5;241;43m.\u001B[39;49m\u001B[43m_engine\u001B[49m\u001B[38;5;241;43m.\u001B[39;49m\u001B[43mget_loc\u001B[49m\u001B[43m(\u001B[49m\u001B[43mcasted_key\u001B[49m\u001B[43m)\u001B[49m\n\u001B[1;32m   3806\u001B[0m \u001B[38;5;28;01mexcept\u001B[39;00m \u001B[38;5;167;01mKeyError\u001B[39;00m \u001B[38;5;28;01mas\u001B[39;00m err:\n",
      "File \u001B[0;32mindex.pyx:167\u001B[0m, in \u001B[0;36mpandas._libs.index.IndexEngine.get_loc\u001B[0;34m()\u001B[0m\n",
      "File \u001B[0;32mindex.pyx:196\u001B[0m, in \u001B[0;36mpandas._libs.index.IndexEngine.get_loc\u001B[0;34m()\u001B[0m\n",
      "File \u001B[0;32mpandas/_libs/hashtable_class_helper.pxi:7081\u001B[0m, in \u001B[0;36mpandas._libs.hashtable.PyObjectHashTable.get_item\u001B[0;34m()\u001B[0m\n",
      "File \u001B[0;32mpandas/_libs/hashtable_class_helper.pxi:7089\u001B[0m, in \u001B[0;36mpandas._libs.hashtable.PyObjectHashTable.get_item\u001B[0;34m()\u001B[0m\n",
      "\u001B[0;31mKeyError\u001B[0m: 'accession'",
      "\nThe above exception was the direct cause of the following exception:\n",
      "\u001B[0;31mKeyError\u001B[0m                                  Traceback (most recent call last)",
      "Cell \u001B[0;32mIn[197], line 4\u001B[0m\n\u001B[1;32m      2\u001B[0m test_data \u001B[38;5;241m=\u001B[39m test_data[(test_data[\u001B[38;5;124m'\u001B[39m\u001B[38;5;124mprotein_probability\u001B[39m\u001B[38;5;124m'\u001B[39m] \u001B[38;5;241m<\u001B[39m\u001B[38;5;241m=\u001B[39m \u001B[38;5;241m0.9\u001B[39m) \u001B[38;5;241m&\u001B[39m (test_data[\u001B[38;5;124m'\u001B[39m\u001B[38;5;124mprotein_probability\u001B[39m\u001B[38;5;124m'\u001B[39m] \u001B[38;5;241m>\u001B[39m\u001B[38;5;241m=\u001B[39m \u001B[38;5;241m0.5\u001B[39m)]\n\u001B[1;32m      3\u001B[0m \u001B[38;5;66;03m# get accessions\u001B[39;00m\n\u001B[0;32m----> 4\u001B[0m test_low_accessions \u001B[38;5;241m=\u001B[39m \u001B[43mtest_data\u001B[49m\u001B[43m[\u001B[49m\u001B[38;5;124;43m'\u001B[39;49m\u001B[38;5;124;43maccession\u001B[39;49m\u001B[38;5;124;43m'\u001B[39;49m\u001B[43m]\u001B[49m\n\u001B[1;32m      5\u001B[0m first_low_accessions \u001B[38;5;241m=\u001B[39m first_data[(first_data[\u001B[38;5;124m'\u001B[39m\u001B[38;5;124mprotein_probability\u001B[39m\u001B[38;5;124m'\u001B[39m] \u001B[38;5;241m<\u001B[39m\u001B[38;5;241m=\u001B[39m\u001B[38;5;241m0.9\u001B[39m) \u001B[38;5;241m&\u001B[39m (first_data[\u001B[38;5;124m'\u001B[39m\u001B[38;5;124mprotein_probability\u001B[39m\u001B[38;5;124m'\u001B[39m] \u001B[38;5;241m>\u001B[39m\u001B[38;5;241m=\u001B[39m \u001B[38;5;241m0.5\u001B[39m)][\u001B[38;5;124m'\u001B[39m\u001B[38;5;124maccession\u001B[39m\u001B[38;5;124m'\u001B[39m]\n\u001B[1;32m      7\u001B[0m \u001B[38;5;66;03m#  get accession with hard_label_03_07\u001B[39;00m\n",
      "File \u001B[0;32m~/miniforge3/envs/grape-pi/lib/python3.11/site-packages/pandas/core/frame.py:4102\u001B[0m, in \u001B[0;36mDataFrame.__getitem__\u001B[0;34m(self, key)\u001B[0m\n\u001B[1;32m   4100\u001B[0m \u001B[38;5;28;01mif\u001B[39;00m \u001B[38;5;28mself\u001B[39m\u001B[38;5;241m.\u001B[39mcolumns\u001B[38;5;241m.\u001B[39mnlevels \u001B[38;5;241m>\u001B[39m \u001B[38;5;241m1\u001B[39m:\n\u001B[1;32m   4101\u001B[0m     \u001B[38;5;28;01mreturn\u001B[39;00m \u001B[38;5;28mself\u001B[39m\u001B[38;5;241m.\u001B[39m_getitem_multilevel(key)\n\u001B[0;32m-> 4102\u001B[0m indexer \u001B[38;5;241m=\u001B[39m \u001B[38;5;28;43mself\u001B[39;49m\u001B[38;5;241;43m.\u001B[39;49m\u001B[43mcolumns\u001B[49m\u001B[38;5;241;43m.\u001B[39;49m\u001B[43mget_loc\u001B[49m\u001B[43m(\u001B[49m\u001B[43mkey\u001B[49m\u001B[43m)\u001B[49m\n\u001B[1;32m   4103\u001B[0m \u001B[38;5;28;01mif\u001B[39;00m is_integer(indexer):\n\u001B[1;32m   4104\u001B[0m     indexer \u001B[38;5;241m=\u001B[39m [indexer]\n",
      "File \u001B[0;32m~/miniforge3/envs/grape-pi/lib/python3.11/site-packages/pandas/core/indexes/base.py:3812\u001B[0m, in \u001B[0;36mIndex.get_loc\u001B[0;34m(self, key)\u001B[0m\n\u001B[1;32m   3807\u001B[0m     \u001B[38;5;28;01mif\u001B[39;00m \u001B[38;5;28misinstance\u001B[39m(casted_key, \u001B[38;5;28mslice\u001B[39m) \u001B[38;5;129;01mor\u001B[39;00m (\n\u001B[1;32m   3808\u001B[0m         \u001B[38;5;28misinstance\u001B[39m(casted_key, abc\u001B[38;5;241m.\u001B[39mIterable)\n\u001B[1;32m   3809\u001B[0m         \u001B[38;5;129;01mand\u001B[39;00m \u001B[38;5;28many\u001B[39m(\u001B[38;5;28misinstance\u001B[39m(x, \u001B[38;5;28mslice\u001B[39m) \u001B[38;5;28;01mfor\u001B[39;00m x \u001B[38;5;129;01min\u001B[39;00m casted_key)\n\u001B[1;32m   3810\u001B[0m     ):\n\u001B[1;32m   3811\u001B[0m         \u001B[38;5;28;01mraise\u001B[39;00m InvalidIndexError(key)\n\u001B[0;32m-> 3812\u001B[0m     \u001B[38;5;28;01mraise\u001B[39;00m \u001B[38;5;167;01mKeyError\u001B[39;00m(key) \u001B[38;5;28;01mfrom\u001B[39;00m \u001B[38;5;21;01merr\u001B[39;00m\n\u001B[1;32m   3813\u001B[0m \u001B[38;5;28;01mexcept\u001B[39;00m \u001B[38;5;167;01mTypeError\u001B[39;00m:\n\u001B[1;32m   3814\u001B[0m     \u001B[38;5;66;03m# If we have a listlike key, _check_indexing_error will raise\u001B[39;00m\n\u001B[1;32m   3815\u001B[0m     \u001B[38;5;66;03m#  InvalidIndexError. Otherwise we fall through and re-raise\u001B[39;00m\n\u001B[1;32m   3816\u001B[0m     \u001B[38;5;66;03m#  the TypeError.\u001B[39;00m\n\u001B[1;32m   3817\u001B[0m     \u001B[38;5;28mself\u001B[39m\u001B[38;5;241m.\u001B[39m_check_indexing_error(key)\n",
      "\u001B[0;31mKeyError\u001B[0m: 'accession'"
     ]
    }
   ],
   "source": [
    "# filter test_data with protein_probability < 0.9\n",
    "test_data = test_data[(test_data['protein_probability'] <= 0.9) & (test_data['protein_probability'] >= 0.5)]\n",
    "# get accessions\n",
    "test_low_accessions = test_data['accession']\n",
    "first_low_accessions = first_data[(first_data['protein_probability'] <=0.9) & (first_data['protein_probability'] >= 0.5)]['accession']\n",
    "\n",
    "#  get accession with hard_label_03_07\n",
    "unlabeled_data = first_data[first_data['hard_label_03_07'].isna()]\n",
    "# get the union of the two sets\n",
    "accession_union = set(test_low_accessions).union(set(first_low_accessions)).union(set(unlabeled_data['accession']))\n",
    "# filter the first_data with the intersection\n",
    "first_data = first_data[first_data['accession'].isin(accession_union)]\n",
    "# filter the test_data with the intersection\n",
    "test_data = test_data[test_data['accession'].isin(accession_union)]\n",
    "\n"
   ],
   "metadata": {
    "collapsed": false,
    "ExecuteTime": {
     "end_time": "2024-11-15T19:10:40.642920Z",
     "start_time": "2024-11-15T19:10:40.247552Z"
    }
   },
   "id": "cfddeb5072e61d4d",
   "execution_count": 197
  },
  {
   "cell_type": "code",
   "outputs": [
    {
     "data": {
      "text/plain": "9892"
     },
     "execution_count": 191,
     "metadata": {},
     "output_type": "execute_result"
    }
   ],
   "source": [],
   "metadata": {
    "collapsed": false,
    "ExecuteTime": {
     "end_time": "2024-11-13T23:25:19.964812Z",
     "start_time": "2024-11-13T23:25:19.962148Z"
    }
   },
   "id": "de1d958b47f529b0",
   "execution_count": 191
  },
  {
   "cell_type": "code",
   "outputs": [],
   "source": [
    "# join based on accession\n",
    "first_data = first_data.set_index('accession')\n",
    "test_data = test_data.set_index('accession')\n",
    "# join the two datasets\n",
    "joined_data = first_data.join(test_data, lsuffix='_first', rsuffix='_test')"
   ],
   "metadata": {
    "collapsed": false,
    "ExecuteTime": {
     "end_time": "2024-11-13T23:23:42.879733Z",
     "start_time": "2024-11-13T23:23:42.874001Z"
    }
   },
   "id": "b0360e98596a6ce4",
   "execution_count": 175
  },
  {
   "cell_type": "code",
   "outputs": [
    {
     "data": {
      "text/plain": "2182"
     },
     "execution_count": 176,
     "metadata": {},
     "output_type": "execute_result"
    }
   ],
   "source": [
    "len(first_low_accessions)"
   ],
   "metadata": {
    "collapsed": false,
    "ExecuteTime": {
     "end_time": "2024-11-13T23:23:43.422032Z",
     "start_time": "2024-11-13T23:23:43.419584Z"
    }
   },
   "id": "fcd37059349e8fdc",
   "execution_count": 176
  },
  {
   "cell_type": "code",
   "outputs": [
    {
     "data": {
      "text/plain": "0.05643677324604328"
     },
     "execution_count": 177,
     "metadata": {},
     "output_type": "execute_result"
    }
   ],
   "source": [
    "# check correlation between the two datasets for pred_prob\n",
    "joined_data['protein_probability_first'].corr(joined_data['protein_probability_test'], method='spearman')"
   ],
   "metadata": {
    "collapsed": false,
    "ExecuteTime": {
     "end_time": "2024-11-13T23:23:43.890614Z",
     "start_time": "2024-11-13T23:23:43.886613Z"
    }
   },
   "id": "a93585c011182b87",
   "execution_count": 177
  },
  {
   "cell_type": "code",
   "outputs": [
    {
     "data": {
      "text/plain": "0.31429536803017183"
     },
     "execution_count": 178,
     "metadata": {},
     "output_type": "execute_result"
    }
   ],
   "source": [
    "# check correlation between the two datasets for pred_prob\n",
    "joined_data['pred_prob_first'].corr(joined_data['pred_prob_test'], method='spearman')"
   ],
   "metadata": {
    "collapsed": false,
    "ExecuteTime": {
     "end_time": "2024-11-13T23:23:45.066736Z",
     "start_time": "2024-11-13T23:23:45.060963Z"
    }
   },
   "id": "2eac654094b5e4eb",
   "execution_count": 178
  },
  {
   "cell_type": "code",
   "outputs": [
    {
     "data": {
      "text/plain": "<matplotlib.collections.PathCollection at 0x2c2073d50>"
     },
     "execution_count": 179,
     "metadata": {},
     "output_type": "execute_result"
    },
    {
     "data": {
      "text/plain": "<Figure size 640x480 with 1 Axes>",
      "image/png": "[encoded data removed]"
     },
     "metadata": {},
     "output_type": "display_data"
    }
   ],
   "source": [
    "# scatter plot for pred_prob and protein_probability\n",
    "plt.scatter(test_data['pred_prob'], test_data['protein_probability'])"
   ],
   "metadata": {
    "collapsed": false,
    "ExecuteTime": {
     "end_time": "2024-11-13T23:23:45.617810Z",
     "start_time": "2024-11-13T23:23:45.541407Z"
    }
   },
   "id": "118bbe72fa20a4fa",
   "execution_count": 179
  },
  {
   "cell_type": "code",
   "outputs": [],
   "source": [
    "# get the top 500 proteins based on pred_prob_test from joined_data\n",
    "top_500_test = joined_data.sort_values('protein_probability_test', ascending=False).head(5000)\n",
    "# get the top 500 proteins based on pred_prob_first from joined_data\n",
    "top_500_first = joined_data.sort_values('protein_probability_first', ascending=False).head(5000)"
   ],
   "metadata": {
    "collapsed": false,
    "ExecuteTime": {
     "end_time": "2024-11-13T23:26:58.031928Z",
     "start_time": "2024-11-13T23:26:58.023710Z"
    }
   },
   "id": "9e582d756b643334",
   "execution_count": 194
  },
  {
   "cell_type": "code",
   "outputs": [],
   "source": [
    "accession_union"
   ],
   "metadata": {
    "collapsed": false
   },
   "id": "df85b5c544d188a5"
  },
  {
   "cell_type": "code",
   "outputs": [
    {
     "data": {
      "text/plain": "           pred_prob_first protein.Accession_first  protein_probability_first  \\\naccession                                                                       \nQ6Y2X3            0.375913                  Q6Y2X3                   0.166549   \nQ6ZMT1            0.244419                  Q6ZMT1                   0.000000   \nP35030            0.150474                  P35030                   0.000000   \nQ6NZY7            0.115197                  Q6NZY7                   0.000000   \nP22223            0.433456                  P22223                   0.561112   \n...                    ...                     ...                        ...   \nQ6YFQ2            0.532434                  Q6YFQ2                   0.378203   \nP49767            0.168877                  P49767                   0.000000   \nP63122            0.439383                  P63122                   0.585955   \nQ5M9N0            0.184124                  Q5M9N0                   0.129997   \nQ5BKX8            0.311066                  Q5BKX8                   0.500002   \n\n           protein_probability_soft_label_first gene_symbol  mRNA_TPM  \\\naccession                                                               \nQ6Y2X3                                 0.533828     DNAJC14  3.393805   \nQ6ZMT1                                 0.295783       STAC2  0.142233   \nP35030                                 0.393994       PRSS3  2.706240   \nQ6NZY7                                 0.325641    CDC42EP5  0.039865   \nP22223                                 0.827578        CDH3  3.496029   \n...                                         ...         ...       ...   \nQ6YFQ2                                 0.026561      COX6B2  3.492748   \nP49767                                 0.399449       VEGFC  0.053871   \nP63122                                 0.262215      ERVK-8  0.000000   \nQ5M9N0                                 0.600587     CCDC158  0.009226   \nQ5BKX8                                 0.070901      CAVIN4  0.482329   \n\n           hard_label_04_06  hard_label_03_07  hard_label_02_08  \\\naccession                                                         \nQ6Y2X3                  NaN               NaN               NaN   \nQ6ZMT1                  0.0               0.0               NaN   \nP35030                  0.0               NaN               NaN   \nQ6NZY7                  0.0               NaN               NaN   \nP22223                  1.0               1.0               1.0   \n...                     ...               ...               ...   \nQ6YFQ2                  0.0               0.0               0.0   \nP49767                  0.0               NaN               NaN   \nP63122                  0.0               0.0               NaN   \nQ5M9N0                  1.0               NaN               NaN   \nQ5BKX8                  0.0               0.0               0.0   \n\n           pred_prob_test protein.Accession_test  protein_probability_test  \\\naccession                                                                    \nQ6Y2X3           0.984151                 Q6Y2X3                  0.604410   \nQ6ZMT1           0.984149                 Q6ZMT1                  0.547397   \nP35030           0.984149                 P35030                  0.170411   \nQ6NZY7           0.984149                 Q6NZY7                  0.000000   \nP22223           0.984149                 P22223                  0.464667   \n...                   ...                    ...                       ...   \nQ6YFQ2           0.984121                 Q6YFQ2                  0.000000   \nP49767           0.984121                 P49767                  0.476282   \nP63122           0.984121                 P63122                  0.000000   \nQ5M9N0           0.984121                 Q5M9N0                  0.822215   \nQ5BKX8           0.984121                 Q5BKX8                  0.000000   \n\n           protein_probability_soft_label_test  \naccession                                       \nQ6Y2X3                                0.533828  \nQ6ZMT1                                0.295783  \nP35030                                0.393994  \nQ6NZY7                                0.325641  \nP22223                                0.827578  \n...                                        ...  \nQ6YFQ2                                0.026561  \nP49767                                0.399449  \nP63122                                0.262215  \nQ5M9N0                                0.600587  \nQ5BKX8                                0.070901  \n\n[500 rows x 13 columns]",
      "text/html": "<div>\n<style scoped>\n    .dataframe tbody tr th:only-of-type {\n        vertical-align: middle;\n    }\n\n    .dataframe tbody tr th {\n        vertical-align: top;\n    }\n\n    .dataframe thead th {\n        text-align: right;\n    }\n</style>\n<table border=\"1\" class=\"dataframe\">\n  <thead>\n    <tr style=\"text-align: right;\">\n      <th></th>\n      <th>pred_prob_first</th>\n      <th>protein.Accession_first</th>\n      <th>protein_probability_first</th>\n      <th>protein_probability_soft_label_first</th>\n      <th>gene_symbol</th>\n      <th>mRNA_TPM</th>\n      <th>hard_label_04_06</th>\n      <th>hard_label_03_07</th>\n      <th>hard_label_02_08</th>\n      <th>pred_prob_test</th>\n      <th>protein.Accession_test</th>\n      <th>protein_probability_test</th>\n      <th>protein_probability_soft_label_test</th>\n    </tr>\n    <tr>\n      <th>accession</th>\n      <th></th>\n      <th></th>\n      <th></th>\n      <th></th>\n      <th></th>\n      <th></th>\n      <th></th>\n      <th></th>\n      <th></th>\n      <th></th>\n      <th></th>\n      <th></th>\n      <th></th>\n    </tr>\n  </thead>\n  <tbody>\n    <tr>\n      <th>Q6Y2X3</th>\n      <td>0.375913</td>\n      <td>Q6Y2X3</td>\n      <td>0.166549</td>\n      <td>0.533828</td>\n      <td>DNAJC14</td>\n      <td>3.393805</td>\n      <td>NaN</td>\n      <td>NaN</td>\n      <td>NaN</td>\n      <td>0.984151</td>\n      <td>Q6Y2X3</td>\n      <td>0.604410</td>\n      <td>0.533828</td>\n    </tr>\n    <tr>\n      <th>Q6ZMT1</th>\n      <td>0.244419</td>\n      <td>Q6ZMT1</td>\n      <td>0.000000</td>\n      <td>0.295783</td>\n      <td>STAC2</td>\n      <td>0.142233</td>\n      <td>0.0</td>\n      <td>0.0</td>\n      <td>NaN</td>\n      <td>0.984149</td>\n      <td>Q6ZMT1</td>\n      <td>0.547397</td>\n      <td>0.295783</td>\n    </tr>\n    <tr>\n      <th>P35030</th>\n      <td>0.150474</td>\n      <td>P35030</td>\n      <td>0.000000</td>\n      <td>0.393994</td>\n      <td>PRSS3</td>\n      <td>2.706240</td>\n      <td>0.0</td>\n      <td>NaN</td>\n      <td>NaN</td>\n      <td>0.984149</td>\n      <td>P35030</td>\n      <td>0.170411</td>\n      <td>0.393994</td>\n    </tr>\n    <tr>\n      <th>Q6NZY7</th>\n      <td>0.115197</td>\n      <td>Q6NZY7</td>\n      <td>0.000000</td>\n      <td>0.325641</td>\n      <td>CDC42EP5</td>\n      <td>0.039865</td>\n      <td>0.0</td>\n      <td>NaN</td>\n      <td>NaN</td>\n      <td>0.984149</td>\n      <td>Q6NZY7</td>\n      <td>0.000000</td>\n      <td>0.325641</td>\n    </tr>\n    <tr>\n      <th>P22223</th>\n      <td>0.433456</td>\n      <td>P22223</td>\n      <td>0.561112</td>\n      <td>0.827578</td>\n      <td>CDH3</td>\n      <td>3.496029</td>\n      <td>1.0</td>\n      <td>1.0</td>\n      <td>1.0</td>\n      <td>0.984149</td>\n      <td>P22223</td>\n      <td>0.464667</td>\n      <td>0.827578</td>\n    </tr>\n    <tr>\n      <th>...</th>\n      <td>...</td>\n      <td>...</td>\n      <td>...</td>\n      <td>...</td>\n      <td>...</td>\n      <td>...</td>\n      <td>...</td>\n      <td>...</td>\n      <td>...</td>\n      <td>...</td>\n      <td>...</td>\n      <td>...</td>\n      <td>...</td>\n    </tr>\n    <tr>\n      <th>Q6YFQ2</th>\n      <td>0.532434</td>\n      <td>Q6YFQ2</td>\n      <td>0.378203</td>\n      <td>0.026561</td>\n      <td>COX6B2</td>\n      <td>3.492748</td>\n      <td>0.0</td>\n      <td>0.0</td>\n      <td>0.0</td>\n      <td>0.984121</td>\n      <td>Q6YFQ2</td>\n      <td>0.000000</td>\n      <td>0.026561</td>\n    </tr>\n    <tr>\n      <th>P49767</th>\n      <td>0.168877</td>\n      <td>P49767</td>\n      <td>0.000000</td>\n      <td>0.399449</td>\n      <td>VEGFC</td>\n      <td>0.053871</td>\n      <td>0.0</td>\n      <td>NaN</td>\n      <td>NaN</td>\n      <td>0.984121</td>\n      <td>P49767</td>\n      <td>0.476282</td>\n      <td>0.399449</td>\n    </tr>\n    <tr>\n      <th>P63122</th>\n      <td>0.439383</td>\n      <td>P63122</td>\n      <td>0.585955</td>\n      <td>0.262215</td>\n      <td>ERVK-8</td>\n      <td>0.000000</td>\n      <td>0.0</td>\n      <td>0.0</td>\n      <td>NaN</td>\n      <td>0.984121</td>\n      <td>P63122</td>\n      <td>0.000000</td>\n      <td>0.262215</td>\n    </tr>\n    <tr>\n      <th>Q5M9N0</th>\n      <td>0.184124</td>\n      <td>Q5M9N0</td>\n      <td>0.129997</td>\n      <td>0.600587</td>\n      <td>CCDC158</td>\n      <td>0.009226</td>\n      <td>1.0</td>\n      <td>NaN</td>\n      <td>NaN</td>\n      <td>0.984121</td>\n      <td>Q5M9N0</td>\n      <td>0.822215</td>\n      <td>0.600587</td>\n    </tr>\n    <tr>\n      <th>Q5BKX8</th>\n      <td>0.311066</td>\n      <td>Q5BKX8</td>\n      <td>0.500002</td>\n      <td>0.070901</td>\n      <td>CAVIN4</td>\n      <td>0.482329</td>\n      <td>0.0</td>\n      <td>0.0</td>\n      <td>0.0</td>\n      <td>0.984121</td>\n      <td>Q5BKX8</td>\n      <td>0.000000</td>\n      <td>0.070901</td>\n    </tr>\n  </tbody>\n</table>\n<p>500 rows × 13 columns</p>\n</div>"
     },
     "execution_count": 196,
     "metadata": {},
     "output_type": "execute_result"
    }
   ],
   "source": [
    "top_500"
   ],
   "metadata": {
    "collapsed": false,
    "ExecuteTime": {
     "end_time": "2024-11-13T23:27:23.294123Z",
     "start_time": "2024-11-13T23:27:23.285533Z"
    }
   },
   "id": "4048f1a59230dae1",
   "execution_count": 196
  },
  {
   "cell_type": "code",
   "outputs": [
    {
     "data": {
      "text/plain": "2893"
     },
     "execution_count": 195,
     "metadata": {},
     "output_type": "execute_result"
    }
   ],
   "source": [
    "# check overlap between the two sets\n",
    "len(set(top_500_test.index).intersection(set(top_500_first.index)))"
   ],
   "metadata": {
    "collapsed": false,
    "ExecuteTime": {
     "end_time": "2024-11-13T23:26:58.679454Z",
     "start_time": "2024-11-13T23:26:58.675472Z"
    }
   },
   "id": "fdf2fed8de52f0a7",
   "execution_count": 195
  },
  {
   "cell_type": "code",
   "outputs": [],
   "source": [],
   "metadata": {
    "collapsed": false
   },
   "id": "38602dd541f02125"
  }
 ],
 "metadata": {
  "kernelspec": {
   "display_name": "Python 3",
   "language": "python",
   "name": "python3"
  },
  "language_info": {
   "codemirror_mode": {
    "name": "ipython",
    "version": 2
   },
   "file_extension": ".py",
   "mimetype": "text/x-python",
   "name": "python",
   "nbconvert_exporter": "python",
   "pygments_lexer": "ipython2",
   "version": "2.7.6"
  }
 },
 "nbformat": 4,
 "nbformat_minor": 5
}
