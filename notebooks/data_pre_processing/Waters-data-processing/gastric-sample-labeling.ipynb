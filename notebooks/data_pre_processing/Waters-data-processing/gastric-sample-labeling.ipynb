{
 "cells": [
  {
   "cell_type": "code",
   "execution_count": 1,
   "metadata": {
    "collapsed": true,
    "pycharm": {
     "name": "#%%\n"
    },
    "ExecuteTime": {
     "end_time": "2024-11-11T21:58:13.404256Z",
     "start_time": "2024-11-11T21:58:13.402539Z"
    }
   },
   "outputs": [],
   "source": [
    "import os\n",
    "import re\n",
    "\n",
    "from IPython.core.interactiveshell import InteractiveShell\n",
    "InteractiveShell.ast_node_interactivity = \"all\"\n",
    "import pandas as pd\n",
    "import numpy as np\n",
    "from functools import reduce\n",
    "import matplotlib.pyplot as plt"
   ]
  },
  {
   "cell_type": "code",
   "execution_count": 2,
   "outputs": [],
   "source": [
    "# %connect_info\n",
    "# %qtconsole"
   ],
   "metadata": {
    "collapsed": false,
    "pycharm": {
     "name": "#%%\n"
    },
    "ExecuteTime": {
     "end_time": "2024-11-11T21:58:13.407331Z",
     "start_time": "2024-11-11T21:58:13.405468Z"
    }
   }
  },
  {
   "cell_type": "code",
   "execution_count": 31,
   "outputs": [
    {
     "name": "stdout",
     "output_type": "stream",
     "text": [
      "/Users/cgu3/Documents/Grape-Pi/data/rawdata\n"
     ]
    },
    {
     "name": "stderr",
     "output_type": "stream",
     "text": [
      "/Users/cgu3/miniforge3/envs/grape-pi/lib/python3.11/site-packages/IPython/core/magics/osm.py:417: UserWarning: This is now an optional IPython functionality, setting dhist requires you to install the `pickleshare` library.\n",
      "  self.shell.db['dhist'] = compress_dhist(dhist)[-100:]\n"
     ]
    },
    {
     "data": {
      "text/plain": "'/Users/cgu3/Documents/Grape-Pi/data/rawdata'"
     },
     "execution_count": 31,
     "metadata": {},
     "output_type": "execute_result"
    }
   ],
   "source": [
    "%cd /Users/cgu3/Documents/Grape-Pi/data/rawdata\n",
    "%pwd"
   ],
   "metadata": {
    "collapsed": false,
    "ExecuteTime": {
     "end_time": "2024-11-13T21:38:29.789932Z",
     "start_time": "2024-11-13T21:38:29.784869Z"
    }
   }
  },
  {
   "cell_type": "code",
   "execution_count": 4,
   "outputs": [
    {
     "name": "stdout",
     "output_type": "stream",
     "text": [
      "['SG_combined_protein_0993_with_protein_probability.csv', 'SG_combined_protein_7105_with_protein_probability.csv', 'SG_combined_protein_7103_with_protein_probability.csv', 'SG_combined_protein_0995_with_protein_probability.csv', 'SG_combined_protein_7100_with_protein_probability.csv', 'SG_combined_protein_0981_with_protein_probability.csv', 'SG_combined_protein_0982_with_protein_probability.csv', 'SG_combined_protein_0999_with_protein_probability.csv']\n"
     ]
    }
   ],
   "source": [
    "# Define the regular expression\n",
    "pattern = re.compile(r'.*_with_protein_probability\\.csv$')\n",
    "\n",
    "# Get a list of all files in the current directory\n",
    "files = os.listdir()\n",
    "\n",
    "# Filter the list of files to only include those that match the regular expression\n",
    "matching_files = [file for file in files if pattern.match(file)]\n",
    "\n",
    "# Print the list of matching files\n",
    "print(matching_files)"
   ],
   "metadata": {
    "collapsed": false,
    "ExecuteTime": {
     "end_time": "2024-11-11T21:58:13.415583Z",
     "start_time": "2024-11-11T21:58:13.413414Z"
    }
   }
  },
  {
   "cell_type": "code",
   "execution_count": 5,
   "outputs": [],
   "source": [
    "csv_files = []\n",
    "i = 0\n",
    "for file in matching_files:\n",
    "    if file in ['SG_combined_protein_0981_with_protein_probability.csv']:\n",
    "        continue\n",
    "    csv_file = pd.read_csv(file)\n",
    "    csv_file.rename(columns={'protein_probability': 'protein_probability' + str(i)}, inplace=True)\n",
    "    csv_files.append(csv_file)\n",
    "    i += 1"
   ],
   "metadata": {
    "collapsed": false,
    "ExecuteTime": {
     "end_time": "2024-11-11T21:58:13.457958Z",
     "start_time": "2024-11-11T21:58:13.416089Z"
    }
   }
  },
  {
   "cell_type": "code",
   "execution_count": 6,
   "outputs": [
    {
     "data": {
      "text/plain": "7"
     },
     "execution_count": 6,
     "metadata": {},
     "output_type": "execute_result"
    }
   ],
   "source": [
    "len(csv_files)"
   ],
   "metadata": {
    "collapsed": false,
    "ExecuteTime": {
     "end_time": "2024-11-11T21:58:13.460936Z",
     "start_time": "2024-11-11T21:58:13.458746Z"
    }
   }
  },
  {
   "cell_type": "code",
   "execution_count": 7,
   "outputs": [
    {
     "data": {
      "text/plain": "  protein.Accession  protein_probability0\n0        A0A024RBG1              0.999992\n1        A0A075B6J2              0.939846\n2        A0A075B6K0              0.991211\n3        A0A075B6K2              0.331800\n4        A0A075B6K4              0.469839",
      "text/html": "<div>\n<style scoped>\n    .dataframe tbody tr th:only-of-type {\n        vertical-align: middle;\n    }\n\n    .dataframe tbody tr th {\n        vertical-align: top;\n    }\n\n    .dataframe thead th {\n        text-align: right;\n    }\n</style>\n<table border=\"1\" class=\"dataframe\">\n  <thead>\n    <tr style=\"text-align: right;\">\n      <th></th>\n      <th>protein.Accession</th>\n      <th>protein_probability0</th>\n    </tr>\n  </thead>\n  <tbody>\n    <tr>\n      <th>0</th>\n      <td>A0A024RBG1</td>\n      <td>0.999992</td>\n    </tr>\n    <tr>\n      <th>1</th>\n      <td>A0A075B6J2</td>\n      <td>0.939846</td>\n    </tr>\n    <tr>\n      <th>2</th>\n      <td>A0A075B6K0</td>\n      <td>0.991211</td>\n    </tr>\n    <tr>\n      <th>3</th>\n      <td>A0A075B6K2</td>\n      <td>0.331800</td>\n    </tr>\n    <tr>\n      <th>4</th>\n      <td>A0A075B6K4</td>\n      <td>0.469839</td>\n    </tr>\n  </tbody>\n</table>\n</div>"
     },
     "execution_count": 7,
     "metadata": {},
     "output_type": "execute_result"
    }
   ],
   "source": [
    "csv_files[0].head()"
   ],
   "metadata": {
    "collapsed": false,
    "ExecuteTime": {
     "end_time": "2024-11-11T21:58:13.465997Z",
     "start_time": "2024-11-11T21:58:13.461556Z"
    }
   }
  },
  {
   "cell_type": "code",
   "execution_count": 8,
   "outputs": [
    {
     "data": {
      "text/plain": "      protein.Accession  protein_probability0  protein_probability1  \\\n0            A0A024RBG1              0.999992              0.999766   \n1            A0A075B6J2              0.939846              0.000000   \n2            A0A075B6K0              0.991211              0.000000   \n3            A0A075B6K2              0.331800              0.000000   \n4            A0A075B6K4              0.469839              0.000000   \n...                 ...                   ...                   ...   \n20421            Q9UI72              0.000000              0.000000   \n20422            Q9Y3F1              0.000000              0.748260   \n20423            Q9Y6C7              0.000000              0.000000   \n20424            Q9Y6Z2              0.000000              0.000000   \n20425            X6R8R1              0.000000              0.769844   \n\n       protein_probability2  protein_probability3  protein_probability4  \\\n0                  0.000000              0.990977              0.000000   \n1                  0.000000              0.000000              0.000000   \n2                  0.000000              0.000000              0.000000   \n3                  0.000000              0.000000              0.997536   \n4                  0.000000              0.000000              0.956788   \n...                     ...                   ...                   ...   \n20421              0.000000              0.000000              0.000000   \n20422              0.000000              0.000000              0.633704   \n20423              0.000000              0.000000              0.000000   \n20424              0.000000              0.000000              0.000000   \n20425              0.583961              0.383530              0.000000   \n\n       protein_probability5  protein_probability6  \n0                  0.681366              0.999911  \n1                  0.847492              0.000000  \n2                  0.000000              0.000000  \n3                  0.000000              0.000000  \n4                  0.000000              0.356269  \n...                     ...                   ...  \n20421              0.000000              0.000000  \n20422              0.000000              0.000000  \n20423              0.000000              0.652250  \n20424              0.000000              0.000000  \n20425              0.249031              0.000000  \n\n[20426 rows x 8 columns]",
      "text/html": "<div>\n<style scoped>\n    .dataframe tbody tr th:only-of-type {\n        vertical-align: middle;\n    }\n\n    .dataframe tbody tr th {\n        vertical-align: top;\n    }\n\n    .dataframe thead th {\n        text-align: right;\n    }\n</style>\n<table border=\"1\" class=\"dataframe\">\n  <thead>\n    <tr style=\"text-align: right;\">\n      <th></th>\n      <th>protein.Accession</th>\n      <th>protein_probability0</th>\n      <th>protein_probability1</th>\n      <th>protein_probability2</th>\n      <th>protein_probability3</th>\n      <th>protein_probability4</th>\n      <th>protein_probability5</th>\n      <th>protein_probability6</th>\n    </tr>\n  </thead>\n  <tbody>\n    <tr>\n      <th>0</th>\n      <td>A0A024RBG1</td>\n      <td>0.999992</td>\n      <td>0.999766</td>\n      <td>0.000000</td>\n      <td>0.990977</td>\n      <td>0.000000</td>\n      <td>0.681366</td>\n      <td>0.999911</td>\n    </tr>\n    <tr>\n      <th>1</th>\n      <td>A0A075B6J2</td>\n      <td>0.939846</td>\n      <td>0.000000</td>\n      <td>0.000000</td>\n      <td>0.000000</td>\n      <td>0.000000</td>\n      <td>0.847492</td>\n      <td>0.000000</td>\n    </tr>\n    <tr>\n      <th>2</th>\n      <td>A0A075B6K0</td>\n      <td>0.991211</td>\n      <td>0.000000</td>\n      <td>0.000000</td>\n      <td>0.000000</td>\n      <td>0.000000</td>\n      <td>0.000000</td>\n      <td>0.000000</td>\n    </tr>\n    <tr>\n      <th>3</th>\n      <td>A0A075B6K2</td>\n      <td>0.331800</td>\n      <td>0.000000</td>\n      <td>0.000000</td>\n      <td>0.000000</td>\n      <td>0.997536</td>\n      <td>0.000000</td>\n      <td>0.000000</td>\n    </tr>\n    <tr>\n      <th>4</th>\n      <td>A0A075B6K4</td>\n      <td>0.469839</td>\n      <td>0.000000</td>\n      <td>0.000000</td>\n      <td>0.000000</td>\n      <td>0.956788</td>\n      <td>0.000000</td>\n      <td>0.356269</td>\n    </tr>\n    <tr>\n      <th>...</th>\n      <td>...</td>\n      <td>...</td>\n      <td>...</td>\n      <td>...</td>\n      <td>...</td>\n      <td>...</td>\n      <td>...</td>\n      <td>...</td>\n    </tr>\n    <tr>\n      <th>20421</th>\n      <td>Q9UI72</td>\n      <td>0.000000</td>\n      <td>0.000000</td>\n      <td>0.000000</td>\n      <td>0.000000</td>\n      <td>0.000000</td>\n      <td>0.000000</td>\n      <td>0.000000</td>\n    </tr>\n    <tr>\n      <th>20422</th>\n      <td>Q9Y3F1</td>\n      <td>0.000000</td>\n      <td>0.748260</td>\n      <td>0.000000</td>\n      <td>0.000000</td>\n      <td>0.633704</td>\n      <td>0.000000</td>\n      <td>0.000000</td>\n    </tr>\n    <tr>\n      <th>20423</th>\n      <td>Q9Y6C7</td>\n      <td>0.000000</td>\n      <td>0.000000</td>\n      <td>0.000000</td>\n      <td>0.000000</td>\n      <td>0.000000</td>\n      <td>0.000000</td>\n      <td>0.652250</td>\n    </tr>\n    <tr>\n      <th>20424</th>\n      <td>Q9Y6Z2</td>\n      <td>0.000000</td>\n      <td>0.000000</td>\n      <td>0.000000</td>\n      <td>0.000000</td>\n      <td>0.000000</td>\n      <td>0.000000</td>\n      <td>0.000000</td>\n    </tr>\n    <tr>\n      <th>20425</th>\n      <td>X6R8R1</td>\n      <td>0.000000</td>\n      <td>0.769844</td>\n      <td>0.583961</td>\n      <td>0.383530</td>\n      <td>0.000000</td>\n      <td>0.249031</td>\n      <td>0.000000</td>\n    </tr>\n  </tbody>\n</table>\n<p>20426 rows × 8 columns</p>\n</div>"
     },
     "execution_count": 8,
     "metadata": {},
     "output_type": "execute_result"
    }
   ],
   "source": [
    "joined_file = reduce(lambda left,right: pd.merge(left,right,on='protein.Accession'), csv_files)\n",
    "joined_file"
   ],
   "metadata": {
    "collapsed": false,
    "ExecuteTime": {
     "end_time": "2024-11-11T21:58:13.495790Z",
     "start_time": "2024-11-11T21:58:13.467809Z"
    }
   }
  },
  {
   "cell_type": "code",
   "execution_count": 9,
   "outputs": [
    {
     "data": {
      "text/plain": "      protein.Accession  protein_probability0  protein_probability1  \\\n0            A0A024RBG1              0.999992              0.999766   \n1            A0A075B6J2              0.939846              0.000000   \n2            A0A075B6K0              0.991211              0.000000   \n3            A0A075B6K2              0.331800              0.000000   \n4            A0A075B6K4              0.469839              0.000000   \n...                 ...                   ...                   ...   \n20421            Q9UI72              0.000000              0.000000   \n20422            Q9Y3F1              0.000000              0.748260   \n20423            Q9Y6C7              0.000000              0.000000   \n20424            Q9Y6Z2              0.000000              0.000000   \n20425            X6R8R1              0.000000              0.769844   \n\n       protein_probability2  protein_probability3  protein_probability4  \\\n0                  0.000000              0.990977              0.000000   \n1                  0.000000              0.000000              0.000000   \n2                  0.000000              0.000000              0.000000   \n3                  0.000000              0.000000              0.997536   \n4                  0.000000              0.000000              0.956788   \n...                     ...                   ...                   ...   \n20421              0.000000              0.000000              0.000000   \n20422              0.000000              0.000000              0.633704   \n20423              0.000000              0.000000              0.000000   \n20424              0.000000              0.000000              0.000000   \n20425              0.583961              0.383530              0.000000   \n\n       protein_probability5  protein_probability6      mean  \n0                  0.681366              0.999911  0.667430  \n1                  0.847492              0.000000  0.255334  \n2                  0.000000              0.000000  0.141602  \n3                  0.000000              0.000000  0.189905  \n4                  0.000000              0.356269  0.254699  \n...                     ...                   ...       ...  \n20421              0.000000              0.000000  0.000000  \n20422              0.000000              0.000000  0.197423  \n20423              0.000000              0.652250  0.093179  \n20424              0.000000              0.000000  0.000000  \n20425              0.249031              0.000000  0.283767  \n\n[20426 rows x 9 columns]",
      "text/html": "<div>\n<style scoped>\n    .dataframe tbody tr th:only-of-type {\n        vertical-align: middle;\n    }\n\n    .dataframe tbody tr th {\n        vertical-align: top;\n    }\n\n    .dataframe thead th {\n        text-align: right;\n    }\n</style>\n<table border=\"1\" class=\"dataframe\">\n  <thead>\n    <tr style=\"text-align: right;\">\n      <th></th>\n      <th>protein.Accession</th>\n      <th>protein_probability0</th>\n      <th>protein_probability1</th>\n      <th>protein_probability2</th>\n      <th>protein_probability3</th>\n      <th>protein_probability4</th>\n      <th>protein_probability5</th>\n      <th>protein_probability6</th>\n      <th>mean</th>\n    </tr>\n  </thead>\n  <tbody>\n    <tr>\n      <th>0</th>\n      <td>A0A024RBG1</td>\n      <td>0.999992</td>\n      <td>0.999766</td>\n      <td>0.000000</td>\n      <td>0.990977</td>\n      <td>0.000000</td>\n      <td>0.681366</td>\n      <td>0.999911</td>\n      <td>0.667430</td>\n    </tr>\n    <tr>\n      <th>1</th>\n      <td>A0A075B6J2</td>\n      <td>0.939846</td>\n      <td>0.000000</td>\n      <td>0.000000</td>\n      <td>0.000000</td>\n      <td>0.000000</td>\n      <td>0.847492</td>\n      <td>0.000000</td>\n      <td>0.255334</td>\n    </tr>\n    <tr>\n      <th>2</th>\n      <td>A0A075B6K0</td>\n      <td>0.991211</td>\n      <td>0.000000</td>\n      <td>0.000000</td>\n      <td>0.000000</td>\n      <td>0.000000</td>\n      <td>0.000000</td>\n      <td>0.000000</td>\n      <td>0.141602</td>\n    </tr>\n    <tr>\n      <th>3</th>\n      <td>A0A075B6K2</td>\n      <td>0.331800</td>\n      <td>0.000000</td>\n      <td>0.000000</td>\n      <td>0.000000</td>\n      <td>0.997536</td>\n      <td>0.000000</td>\n      <td>0.000000</td>\n      <td>0.189905</td>\n    </tr>\n    <tr>\n      <th>4</th>\n      <td>A0A075B6K4</td>\n      <td>0.469839</td>\n      <td>0.000000</td>\n      <td>0.000000</td>\n      <td>0.000000</td>\n      <td>0.956788</td>\n      <td>0.000000</td>\n      <td>0.356269</td>\n      <td>0.254699</td>\n    </tr>\n    <tr>\n      <th>...</th>\n      <td>...</td>\n      <td>...</td>\n      <td>...</td>\n      <td>...</td>\n      <td>...</td>\n      <td>...</td>\n      <td>...</td>\n      <td>...</td>\n      <td>...</td>\n    </tr>\n    <tr>\n      <th>20421</th>\n      <td>Q9UI72</td>\n      <td>0.000000</td>\n      <td>0.000000</td>\n      <td>0.000000</td>\n      <td>0.000000</td>\n      <td>0.000000</td>\n      <td>0.000000</td>\n      <td>0.000000</td>\n      <td>0.000000</td>\n    </tr>\n    <tr>\n      <th>20422</th>\n      <td>Q9Y3F1</td>\n      <td>0.000000</td>\n      <td>0.748260</td>\n      <td>0.000000</td>\n      <td>0.000000</td>\n      <td>0.633704</td>\n      <td>0.000000</td>\n      <td>0.000000</td>\n      <td>0.197423</td>\n    </tr>\n    <tr>\n      <th>20423</th>\n      <td>Q9Y6C7</td>\n      <td>0.000000</td>\n      <td>0.000000</td>\n      <td>0.000000</td>\n      <td>0.000000</td>\n      <td>0.000000</td>\n      <td>0.000000</td>\n      <td>0.652250</td>\n      <td>0.093179</td>\n    </tr>\n    <tr>\n      <th>20424</th>\n      <td>Q9Y6Z2</td>\n      <td>0.000000</td>\n      <td>0.000000</td>\n      <td>0.000000</td>\n      <td>0.000000</td>\n      <td>0.000000</td>\n      <td>0.000000</td>\n      <td>0.000000</td>\n      <td>0.000000</td>\n    </tr>\n    <tr>\n      <th>20425</th>\n      <td>X6R8R1</td>\n      <td>0.000000</td>\n      <td>0.769844</td>\n      <td>0.583961</td>\n      <td>0.383530</td>\n      <td>0.000000</td>\n      <td>0.249031</td>\n      <td>0.000000</td>\n      <td>0.283767</td>\n    </tr>\n  </tbody>\n</table>\n<p>20426 rows × 9 columns</p>\n</div>"
     },
     "execution_count": 9,
     "metadata": {},
     "output_type": "execute_result"
    }
   ],
   "source": [
    "# joined_file['max'] = joined_file.iloc[:, 1:].mean(axis=1)\n",
    "joined_file['mean'] = joined_file.iloc[:, 1:].mean(axis=1)\n",
    "joined_file"
   ],
   "metadata": {
    "collapsed": false,
    "ExecuteTime": {
     "end_time": "2024-11-11T21:58:15.569225Z",
     "start_time": "2024-11-11T21:58:15.558021Z"
    }
   }
  },
  {
   "cell_type": "code",
   "execution_count": 10,
   "outputs": [
    {
     "data": {
      "text/plain": "      protein.Accession  protein_probability\n0            A0A024RBG1             0.667430\n1            A0A075B6J2             0.255334\n2            A0A075B6K0             0.141602\n3            A0A075B6K2             0.189905\n4            A0A075B6K4             0.254699\n...                 ...                  ...\n20421            Q9UI72             0.000000\n20422            Q9Y3F1             0.197423\n20423            Q9Y6C7             0.093179\n20424            Q9Y6Z2             0.000000\n20425            X6R8R1             0.283767\n\n[20426 rows x 2 columns]",
      "text/html": "<div>\n<style scoped>\n    .dataframe tbody tr th:only-of-type {\n        vertical-align: middle;\n    }\n\n    .dataframe tbody tr th {\n        vertical-align: top;\n    }\n\n    .dataframe thead th {\n        text-align: right;\n    }\n</style>\n<table border=\"1\" class=\"dataframe\">\n  <thead>\n    <tr style=\"text-align: right;\">\n      <th></th>\n      <th>protein.Accession</th>\n      <th>protein_probability</th>\n    </tr>\n  </thead>\n  <tbody>\n    <tr>\n      <th>0</th>\n      <td>A0A024RBG1</td>\n      <td>0.667430</td>\n    </tr>\n    <tr>\n      <th>1</th>\n      <td>A0A075B6J2</td>\n      <td>0.255334</td>\n    </tr>\n    <tr>\n      <th>2</th>\n      <td>A0A075B6K0</td>\n      <td>0.141602</td>\n    </tr>\n    <tr>\n      <th>3</th>\n      <td>A0A075B6K2</td>\n      <td>0.189905</td>\n    </tr>\n    <tr>\n      <th>4</th>\n      <td>A0A075B6K4</td>\n      <td>0.254699</td>\n    </tr>\n    <tr>\n      <th>...</th>\n      <td>...</td>\n      <td>...</td>\n    </tr>\n    <tr>\n      <th>20421</th>\n      <td>Q9UI72</td>\n      <td>0.000000</td>\n    </tr>\n    <tr>\n      <th>20422</th>\n      <td>Q9Y3F1</td>\n      <td>0.197423</td>\n    </tr>\n    <tr>\n      <th>20423</th>\n      <td>Q9Y6C7</td>\n      <td>0.093179</td>\n    </tr>\n    <tr>\n      <th>20424</th>\n      <td>Q9Y6Z2</td>\n      <td>0.000000</td>\n    </tr>\n    <tr>\n      <th>20425</th>\n      <td>X6R8R1</td>\n      <td>0.283767</td>\n    </tr>\n  </tbody>\n</table>\n<p>20426 rows × 2 columns</p>\n</div>"
     },
     "execution_count": 10,
     "metadata": {},
     "output_type": "execute_result"
    }
   ],
   "source": [
    "soft_label = joined_file.loc[:, ['protein.Accession', 'mean']]\n",
    "soft_label.rename(columns={'mean': 'protein_probability'}, inplace=True)\n",
    "soft_label"
   ],
   "metadata": {
    "collapsed": false,
    "ExecuteTime": {
     "end_time": "2024-11-11T21:58:18.168017Z",
     "start_time": "2024-11-11T21:58:18.160395Z"
    }
   }
  },
  {
   "cell_type": "code",
   "execution_count": 11,
   "outputs": [
    {
     "data": {
      "text/plain": "<Axes: >"
     },
     "execution_count": 11,
     "metadata": {},
     "output_type": "execute_result"
    },
    {
     "data": {
      "text/plain": "<Figure size 640x480 with 1 Axes>",
      "image/png": "[encoded data removed]"
     },
     "metadata": {},
     "output_type": "display_data"
    }
   ],
   "source": [
    "soft_label['protein_probability'].hist(bins=100)"
   ],
   "metadata": {
    "collapsed": false,
    "ExecuteTime": {
     "end_time": "2024-11-11T21:58:19.157713Z",
     "start_time": "2024-11-11T21:58:19.024283Z"
    }
   }
  },
  {
   "cell_type": "code",
   "execution_count": 12,
   "outputs": [],
   "source": [
    "soft_label.to_csv('soft_label.csv', index=False)"
   ],
   "metadata": {
    "collapsed": false,
    "ExecuteTime": {
     "end_time": "2024-11-11T21:58:19.834013Z",
     "start_time": "2024-11-11T21:58:19.806280Z"
    }
   }
  },
  {
   "cell_type": "code",
   "execution_count": 13,
   "outputs": [],
   "source": [
    "dat_train = pd.read_csv('SG_combined_protein_0981_with_protein_probability.csv')"
   ],
   "metadata": {
    "collapsed": false,
    "ExecuteTime": {
     "end_time": "2024-11-11T21:58:21.565587Z",
     "start_time": "2024-11-11T21:58:21.553937Z"
    }
   }
  },
  {
   "cell_type": "code",
   "execution_count": 14,
   "outputs": [
    {
     "data": {
      "text/plain": "<Axes: >"
     },
     "execution_count": 14,
     "metadata": {},
     "output_type": "execute_result"
    },
    {
     "data": {
      "text/plain": "<Figure size 640x480 with 1 Axes>",
      "image/png": "[encoded data removed]"
     },
     "metadata": {},
     "output_type": "display_data"
    }
   ],
   "source": [
    "dat_train['protein_probability'].hist(bins=100)"
   ],
   "metadata": {
    "collapsed": false,
    "ExecuteTime": {
     "end_time": "2024-11-11T21:58:21.817066Z",
     "start_time": "2024-11-11T21:58:21.721482Z"
    }
   }
  },
  {
   "cell_type": "code",
   "outputs": [
    {
     "data": {
      "text/plain": "      protein.Accession  protein_probability  protein_probability_soft_label\n0            A0A024RBG1             0.890032                        0.667430\n1            A0A075B6H7             0.700122                        0.267383\n2            A0A075B6H8             0.286947                        0.056265\n3            A0A075B6L6             0.943529                        0.140940\n4            A0A075B6N1             0.289680                        0.153119\n...                 ...                  ...                             ...\n20421            Q9UI54             0.000000                        0.000000\n20422            Q9Y3F1             0.000000                        0.197423\n20423            Q9Y6C7             0.000000                        0.093179\n20424            Q9Y6Z2             0.000000                        0.000000\n20425            X6R8R1             0.000000                        0.283767\n\n[20426 rows x 3 columns]",
      "text/html": "<div>\n<style scoped>\n    .dataframe tbody tr th:only-of-type {\n        vertical-align: middle;\n    }\n\n    .dataframe tbody tr th {\n        vertical-align: top;\n    }\n\n    .dataframe thead th {\n        text-align: right;\n    }\n</style>\n<table border=\"1\" class=\"dataframe\">\n  <thead>\n    <tr style=\"text-align: right;\">\n      <th></th>\n      <th>protein.Accession</th>\n      <th>protein_probability</th>\n      <th>protein_probability_soft_label</th>\n    </tr>\n  </thead>\n  <tbody>\n    <tr>\n      <th>0</th>\n      <td>A0A024RBG1</td>\n      <td>0.890032</td>\n      <td>0.667430</td>\n    </tr>\n    <tr>\n      <th>1</th>\n      <td>A0A075B6H7</td>\n      <td>0.700122</td>\n      <td>0.267383</td>\n    </tr>\n    <tr>\n      <th>2</th>\n      <td>A0A075B6H8</td>\n      <td>0.286947</td>\n      <td>0.056265</td>\n    </tr>\n    <tr>\n      <th>3</th>\n      <td>A0A075B6L6</td>\n      <td>0.943529</td>\n      <td>0.140940</td>\n    </tr>\n    <tr>\n      <th>4</th>\n      <td>A0A075B6N1</td>\n      <td>0.289680</td>\n      <td>0.153119</td>\n    </tr>\n    <tr>\n      <th>...</th>\n      <td>...</td>\n      <td>...</td>\n      <td>...</td>\n    </tr>\n    <tr>\n      <th>20421</th>\n      <td>Q9UI54</td>\n      <td>0.000000</td>\n      <td>0.000000</td>\n    </tr>\n    <tr>\n      <th>20422</th>\n      <td>Q9Y3F1</td>\n      <td>0.000000</td>\n      <td>0.197423</td>\n    </tr>\n    <tr>\n      <th>20423</th>\n      <td>Q9Y6C7</td>\n      <td>0.000000</td>\n      <td>0.093179</td>\n    </tr>\n    <tr>\n      <th>20424</th>\n      <td>Q9Y6Z2</td>\n      <td>0.000000</td>\n      <td>0.000000</td>\n    </tr>\n    <tr>\n      <th>20425</th>\n      <td>X6R8R1</td>\n      <td>0.000000</td>\n      <td>0.283767</td>\n    </tr>\n  </tbody>\n</table>\n<p>20426 rows × 3 columns</p>\n</div>"
     },
     "execution_count": 15,
     "metadata": {},
     "output_type": "execute_result"
    }
   ],
   "source": [
    "dat_train = pd.merge(dat_train, soft_label, on='protein.Accession', suffixes=('', '_soft_label'))\n",
    "dat_train"
   ],
   "metadata": {
    "collapsed": false,
    "ExecuteTime": {
     "end_time": "2024-11-11T21:58:21.889138Z",
     "start_time": "2024-11-11T21:58:21.880723Z"
    }
   },
   "execution_count": 15
  },
  {
   "cell_type": "code",
   "execution_count": 16,
   "outputs": [],
   "source": [
    "# dat_train['hard_label'].value_counts()"
   ],
   "metadata": {
    "collapsed": false,
    "ExecuteTime": {
     "end_time": "2024-11-11T21:58:23.022911Z",
     "start_time": "2024-11-11T21:58:23.020832Z"
    }
   }
  },
  {
   "cell_type": "markdown",
   "source": [
    "# Merge with mRNA data"
   ],
   "metadata": {
    "collapsed": false
   }
  },
  {
   "cell_type": "code",
   "execution_count": 17,
   "outputs": [],
   "source": [
    "os.chdir('/Users/cgu3/Documents/Grape-Pi')"
   ],
   "metadata": {
    "collapsed": false,
    "ExecuteTime": {
     "end_time": "2024-11-11T21:58:24.470989Z",
     "start_time": "2024-11-11T21:58:24.468635Z"
    }
   }
  },
  {
   "cell_type": "code",
   "execution_count": 18,
   "outputs": [
    {
     "data": {
      "text/plain": "      gene_symbol  mRNA_TPM\n0            A1BG  0.114548\n1        A1BG-AS1  0.528013\n2            A1CF  1.527474\n3             A2M  2.050699\n4         A2M-AS1  0.619777\n...           ...       ...\n31737      ZYG11A  0.025310\n31738      ZYG11B  1.230762\n31739         ZYX  6.169836\n31740       ZZEF1  2.066245\n31741        ZZZ3  1.664052\n\n[31742 rows x 2 columns]",
      "text/html": "<div>\n<style scoped>\n    .dataframe tbody tr th:only-of-type {\n        vertical-align: middle;\n    }\n\n    .dataframe tbody tr th {\n        vertical-align: top;\n    }\n\n    .dataframe thead th {\n        text-align: right;\n    }\n</style>\n<table border=\"1\" class=\"dataframe\">\n  <thead>\n    <tr style=\"text-align: right;\">\n      <th></th>\n      <th>gene_symbol</th>\n      <th>mRNA_TPM</th>\n    </tr>\n  </thead>\n  <tbody>\n    <tr>\n      <th>0</th>\n      <td>A1BG</td>\n      <td>0.114548</td>\n    </tr>\n    <tr>\n      <th>1</th>\n      <td>A1BG-AS1</td>\n      <td>0.528013</td>\n    </tr>\n    <tr>\n      <th>2</th>\n      <td>A1CF</td>\n      <td>1.527474</td>\n    </tr>\n    <tr>\n      <th>3</th>\n      <td>A2M</td>\n      <td>2.050699</td>\n    </tr>\n    <tr>\n      <th>4</th>\n      <td>A2M-AS1</td>\n      <td>0.619777</td>\n    </tr>\n    <tr>\n      <th>...</th>\n      <td>...</td>\n      <td>...</td>\n    </tr>\n    <tr>\n      <th>31737</th>\n      <td>ZYG11A</td>\n      <td>0.025310</td>\n    </tr>\n    <tr>\n      <th>31738</th>\n      <td>ZYG11B</td>\n      <td>1.230762</td>\n    </tr>\n    <tr>\n      <th>31739</th>\n      <td>ZYX</td>\n      <td>6.169836</td>\n    </tr>\n    <tr>\n      <th>31740</th>\n      <td>ZZEF1</td>\n      <td>2.066245</td>\n    </tr>\n    <tr>\n      <th>31741</th>\n      <td>ZZZ3</td>\n      <td>1.664052</td>\n    </tr>\n  </tbody>\n</table>\n<p>31742 rows × 2 columns</p>\n</div>"
     },
     "execution_count": 18,
     "metadata": {},
     "output_type": "execute_result"
    }
   ],
   "source": [
    "mRNA_data = pd.read_csv('data/miscellaneous/mRNA-data/processed_RNA_data.csv')\n",
    "mRNA_data = mRNA_data.rename(columns={mRNA_data.columns[0]: 'gene_symbol'})\n",
    "mRNA_data = mRNA_data.loc[:, ['gene_symbol', 'IP0981_1701']]\n",
    "mRNA_data['IP0981_1701'] = np.log(mRNA_data['IP0981_1701'] + 1)\n",
    "mRNA_data.rename(columns={'IP0981_1701': 'mRNA_TPM'}, inplace=True)\n",
    "mRNA_data"
   ],
   "metadata": {
    "collapsed": false,
    "ExecuteTime": {
     "end_time": "2024-11-11T21:58:24.684004Z",
     "start_time": "2024-11-11T21:58:24.653780Z"
    }
   }
  },
  {
   "cell_type": "code",
   "execution_count": 19,
   "outputs": [
    {
     "data": {
      "text/plain": "<Figure size 640x480 with 1 Axes>",
      "image/png": "[encoded data removed]"
     },
     "metadata": {},
     "output_type": "display_data"
    }
   ],
   "source": [
    "plt.hist(mRNA_data['mRNA_TPM'], bins=100);"
   ],
   "metadata": {
    "collapsed": false,
    "ExecuteTime": {
     "end_time": "2024-11-11T21:58:24.968170Z",
     "start_time": "2024-11-11T21:58:24.845866Z"
    }
   }
  },
  {
   "cell_type": "code",
   "execution_count": 20,
   "outputs": [],
   "source": [
    "import pandas as pd\n",
    "\n",
    "def get_values_from_dict(keys, dictionary, na_rm=True):\n",
    "    # Ensure the dictionary is a DataFrame\n",
    "    dictionary = pd.DataFrame(dictionary)\n",
    "    \n",
    "    # Check for duplicated keys in the dictionary\n",
    "    if dictionary.iloc[:, 0].duplicated().any():\n",
    "        raise ValueError(\"Non-unique keys in dictionary: the same key can be mapped to multiple values\")\n",
    "    \n",
    "    # Convert keys to a DataFrame\n",
    "    keys_df = pd.DataFrame({'key': keys})\n",
    "    \n",
    "    # Join keys with the dictionary to get the corresponding values\n",
    "    merged = keys_df.merge(dictionary, left_on='key', right_on=dictionary.columns[0], how='left')\n",
    "    \n",
    "    # Select the values column\n",
    "    values = merged[dictionary.columns[1]]\n",
    "    \n",
    "    # If na_rm is True, remove NA values\n",
    "    if na_rm:\n",
    "        values = values.dropna()\n",
    "    \n",
    "    return values.tolist()\n",
    "\n",
    "# Example usage:\n",
    "# dictionary = {'key_column': ['a', 'b', 'c'], 'value_column': [1, 2, 3]}\n",
    "# keys = ['a', 'b']\n",
    "# print(get_values_from_dict(keys, dictionary))\n"
   ],
   "metadata": {
    "collapsed": false,
    "ExecuteTime": {
     "end_time": "2024-11-11T21:58:25.612917Z",
     "start_time": "2024-11-11T21:58:25.609874Z"
    }
   }
  },
  {
   "cell_type": "code",
   "execution_count": 21,
   "outputs": [
    {
     "data": {
      "text/plain": "            Entry Gene Names (primary)  Length   Entry Name  \\\n0      A0A087X1C5               CYP2D7     515  CP2D7_HUMAN   \n1      A0A0B4J2F0              PIGBOS1      54  PIOS1_HUMAN   \n2      A0A0B4J2F2                SIK1B     783  SIK1B_HUMAN   \n3      A0A0C5B5G6              MT-RNR1      16  MOTSC_HUMAN   \n4      A0A0K2S4Q6               CD300H     201  CD3CH_HUMAN   \n...           ...                  ...     ...          ...   \n20406      Q9UI72                  NaN      69  YE014_HUMAN   \n20407      Q9Y3F1                  NaN      56   TA6P_HUMAN   \n20408      Q9Y6C7            LINC00312      94  L3R2A_HUMAN   \n20409      Q9Y6Z2            LINC01558      57  CF123_HUMAN   \n20410      X6R8R1               SYT15B     474  ST15B_HUMAN   \n\n                      STRING  \n0                        NaN  \n1                        NaN  \n2      9606.ENSP00000482829;  \n3                        NaN  \n4                        NaN  \n...                      ...  \n20406                    NaN  \n20407                    NaN  \n20408                    NaN  \n20409                    NaN  \n20410                    NaN  \n\n[20411 rows x 5 columns]",
      "text/html": "<div>\n<style scoped>\n    .dataframe tbody tr th:only-of-type {\n        vertical-align: middle;\n    }\n\n    .dataframe tbody tr th {\n        vertical-align: top;\n    }\n\n    .dataframe thead th {\n        text-align: right;\n    }\n</style>\n<table border=\"1\" class=\"dataframe\">\n  <thead>\n    <tr style=\"text-align: right;\">\n      <th></th>\n      <th>Entry</th>\n      <th>Gene Names (primary)</th>\n      <th>Length</th>\n      <th>Entry Name</th>\n      <th>STRING</th>\n    </tr>\n  </thead>\n  <tbody>\n    <tr>\n      <th>0</th>\n      <td>A0A087X1C5</td>\n      <td>CYP2D7</td>\n      <td>515</td>\n      <td>CP2D7_HUMAN</td>\n      <td>NaN</td>\n    </tr>\n    <tr>\n      <th>1</th>\n      <td>A0A0B4J2F0</td>\n      <td>PIGBOS1</td>\n      <td>54</td>\n      <td>PIOS1_HUMAN</td>\n      <td>NaN</td>\n    </tr>\n    <tr>\n      <th>2</th>\n      <td>A0A0B4J2F2</td>\n      <td>SIK1B</td>\n      <td>783</td>\n      <td>SIK1B_HUMAN</td>\n      <td>9606.ENSP00000482829;</td>\n    </tr>\n    <tr>\n      <th>3</th>\n      <td>A0A0C5B5G6</td>\n      <td>MT-RNR1</td>\n      <td>16</td>\n      <td>MOTSC_HUMAN</td>\n      <td>NaN</td>\n    </tr>\n    <tr>\n      <th>4</th>\n      <td>A0A0K2S4Q6</td>\n      <td>CD300H</td>\n      <td>201</td>\n      <td>CD3CH_HUMAN</td>\n      <td>NaN</td>\n    </tr>\n    <tr>\n      <th>...</th>\n      <td>...</td>\n      <td>...</td>\n      <td>...</td>\n      <td>...</td>\n      <td>...</td>\n    </tr>\n    <tr>\n      <th>20406</th>\n      <td>Q9UI72</td>\n      <td>NaN</td>\n      <td>69</td>\n      <td>YE014_HUMAN</td>\n      <td>NaN</td>\n    </tr>\n    <tr>\n      <th>20407</th>\n      <td>Q9Y3F1</td>\n      <td>NaN</td>\n      <td>56</td>\n      <td>TA6P_HUMAN</td>\n      <td>NaN</td>\n    </tr>\n    <tr>\n      <th>20408</th>\n      <td>Q9Y6C7</td>\n      <td>LINC00312</td>\n      <td>94</td>\n      <td>L3R2A_HUMAN</td>\n      <td>NaN</td>\n    </tr>\n    <tr>\n      <th>20409</th>\n      <td>Q9Y6Z2</td>\n      <td>LINC01558</td>\n      <td>57</td>\n      <td>CF123_HUMAN</td>\n      <td>NaN</td>\n    </tr>\n    <tr>\n      <th>20410</th>\n      <td>X6R8R1</td>\n      <td>SYT15B</td>\n      <td>474</td>\n      <td>ST15B_HUMAN</td>\n      <td>NaN</td>\n    </tr>\n  </tbody>\n</table>\n<p>20411 rows × 5 columns</p>\n</div>"
     },
     "execution_count": 21,
     "metadata": {},
     "output_type": "execute_result"
    }
   ],
   "source": [
    "acc_to_gene_symbol_dict = pd.read_table('data/miscellaneous/uniprotkb_proteome_UP000005640_AND_revi_2023_10_05.tsv', sep='\\t')\n",
    "acc_to_gene_symbol_dict"
   ],
   "metadata": {
    "collapsed": false,
    "ExecuteTime": {
     "end_time": "2024-11-11T21:58:25.814834Z",
     "start_time": "2024-11-11T21:58:25.793727Z"
    }
   }
  },
  {
   "cell_type": "code",
   "execution_count": 22,
   "outputs": [
    {
     "data": {
      "text/plain": "  protein.Accession  protein_probability  protein_probability_soft_label  \\\n0        A0A024RBG1             0.890032                        0.667430   \n1        A0A075B6H7             0.700122                        0.267383   \n2        A0A075B6H8             0.286947                        0.056265   \n3        A0A075B6L6             0.943529                        0.140940   \n4        A0A075B6N1             0.289680                        0.153119   \n\n  gene_symbol  \n0      NUDT4B  \n1     IGKV3-7  \n2   IGKV1D-42  \n3     TRBV7-3  \n4      TRBV19  ",
      "text/html": "<div>\n<style scoped>\n    .dataframe tbody tr th:only-of-type {\n        vertical-align: middle;\n    }\n\n    .dataframe tbody tr th {\n        vertical-align: top;\n    }\n\n    .dataframe thead th {\n        text-align: right;\n    }\n</style>\n<table border=\"1\" class=\"dataframe\">\n  <thead>\n    <tr style=\"text-align: right;\">\n      <th></th>\n      <th>protein.Accession</th>\n      <th>protein_probability</th>\n      <th>protein_probability_soft_label</th>\n      <th>gene_symbol</th>\n    </tr>\n  </thead>\n  <tbody>\n    <tr>\n      <th>0</th>\n      <td>A0A024RBG1</td>\n      <td>0.890032</td>\n      <td>0.667430</td>\n      <td>NUDT4B</td>\n    </tr>\n    <tr>\n      <th>1</th>\n      <td>A0A075B6H7</td>\n      <td>0.700122</td>\n      <td>0.267383</td>\n      <td>IGKV3-7</td>\n    </tr>\n    <tr>\n      <th>2</th>\n      <td>A0A075B6H8</td>\n      <td>0.286947</td>\n      <td>0.056265</td>\n      <td>IGKV1D-42</td>\n    </tr>\n    <tr>\n      <th>3</th>\n      <td>A0A075B6L6</td>\n      <td>0.943529</td>\n      <td>0.140940</td>\n      <td>TRBV7-3</td>\n    </tr>\n    <tr>\n      <th>4</th>\n      <td>A0A075B6N1</td>\n      <td>0.289680</td>\n      <td>0.153119</td>\n      <td>TRBV19</td>\n    </tr>\n  </tbody>\n</table>\n</div>"
     },
     "execution_count": 22,
     "metadata": {},
     "output_type": "execute_result"
    }
   ],
   "source": [
    "dat_train['gene_symbol'] = get_values_from_dict(dat_train['protein.Accession'], acc_to_gene_symbol_dict, na_rm=False)\n",
    "dat_train.head()"
   ],
   "metadata": {
    "collapsed": false,
    "ExecuteTime": {
     "end_time": "2024-11-11T21:58:25.979540Z",
     "start_time": "2024-11-11T21:58:25.969523Z"
    }
   }
  },
  {
   "cell_type": "code",
   "execution_count": 23,
   "outputs": [
    {
     "data": {
      "text/plain": "      protein.Accession  protein_probability  protein_probability_soft_label  \\\n0            A0A024RBG1             0.890032                        0.667430   \n1            A0A075B6H7             0.700122                        0.267383   \n2            A0A075B6H8             0.286947                        0.056265   \n3            A0A075B6L6             0.943529                        0.140940   \n4            A0A075B6N1             0.289680                        0.153119   \n...                 ...                  ...                             ...   \n20421            Q9UI54             0.000000                        0.000000   \n20422            Q9Y3F1             0.000000                        0.197423   \n20423            Q9Y6C7             0.000000                        0.093179   \n20424            Q9Y6Z2             0.000000                        0.000000   \n20425            X6R8R1             0.000000                        0.283767   \n\n      gene_symbol  mRNA_TPM  \n0          NUDT4B    0.0000  \n1         IGKV3-7    0.0000  \n2       IGKV1D-42    0.0000  \n3         TRBV7-3    0.0000  \n4          TRBV19    0.0000  \n...           ...       ...  \n20421           0    0.0000  \n20422           0    0.0000  \n20423   LINC00312    0.0000  \n20424   LINC01558    0.0531  \n20425      SYT15B    0.0000  \n\n[20426 rows x 5 columns]",
      "text/html": "<div>\n<style scoped>\n    .dataframe tbody tr th:only-of-type {\n        vertical-align: middle;\n    }\n\n    .dataframe tbody tr th {\n        vertical-align: top;\n    }\n\n    .dataframe thead th {\n        text-align: right;\n    }\n</style>\n<table border=\"1\" class=\"dataframe\">\n  <thead>\n    <tr style=\"text-align: right;\">\n      <th></th>\n      <th>protein.Accession</th>\n      <th>protein_probability</th>\n      <th>protein_probability_soft_label</th>\n      <th>gene_symbol</th>\n      <th>mRNA_TPM</th>\n    </tr>\n  </thead>\n  <tbody>\n    <tr>\n      <th>0</th>\n      <td>A0A024RBG1</td>\n      <td>0.890032</td>\n      <td>0.667430</td>\n      <td>NUDT4B</td>\n      <td>0.0000</td>\n    </tr>\n    <tr>\n      <th>1</th>\n      <td>A0A075B6H7</td>\n      <td>0.700122</td>\n      <td>0.267383</td>\n      <td>IGKV3-7</td>\n      <td>0.0000</td>\n    </tr>\n    <tr>\n      <th>2</th>\n      <td>A0A075B6H8</td>\n      <td>0.286947</td>\n      <td>0.056265</td>\n      <td>IGKV1D-42</td>\n      <td>0.0000</td>\n    </tr>\n    <tr>\n      <th>3</th>\n      <td>A0A075B6L6</td>\n      <td>0.943529</td>\n      <td>0.140940</td>\n      <td>TRBV7-3</td>\n      <td>0.0000</td>\n    </tr>\n    <tr>\n      <th>4</th>\n      <td>A0A075B6N1</td>\n      <td>0.289680</td>\n      <td>0.153119</td>\n      <td>TRBV19</td>\n      <td>0.0000</td>\n    </tr>\n    <tr>\n      <th>...</th>\n      <td>...</td>\n      <td>...</td>\n      <td>...</td>\n      <td>...</td>\n      <td>...</td>\n    </tr>\n    <tr>\n      <th>20421</th>\n      <td>Q9UI54</td>\n      <td>0.000000</td>\n      <td>0.000000</td>\n      <td>0</td>\n      <td>0.0000</td>\n    </tr>\n    <tr>\n      <th>20422</th>\n      <td>Q9Y3F1</td>\n      <td>0.000000</td>\n      <td>0.197423</td>\n      <td>0</td>\n      <td>0.0000</td>\n    </tr>\n    <tr>\n      <th>20423</th>\n      <td>Q9Y6C7</td>\n      <td>0.000000</td>\n      <td>0.093179</td>\n      <td>LINC00312</td>\n      <td>0.0000</td>\n    </tr>\n    <tr>\n      <th>20424</th>\n      <td>Q9Y6Z2</td>\n      <td>0.000000</td>\n      <td>0.000000</td>\n      <td>LINC01558</td>\n      <td>0.0531</td>\n    </tr>\n    <tr>\n      <th>20425</th>\n      <td>X6R8R1</td>\n      <td>0.000000</td>\n      <td>0.283767</td>\n      <td>SYT15B</td>\n      <td>0.0000</td>\n    </tr>\n  </tbody>\n</table>\n<p>20426 rows × 5 columns</p>\n</div>"
     },
     "execution_count": 23,
     "metadata": {},
     "output_type": "execute_result"
    }
   ],
   "source": [
    "merged_data = pd.merge(dat_train, mRNA_data, on='gene_symbol', how='left')\n",
    "merged_data.fillna(0, inplace=True)\n",
    "merged_data"
   ],
   "metadata": {
    "collapsed": false,
    "ExecuteTime": {
     "end_time": "2024-11-11T21:58:27.011987Z",
     "start_time": "2024-11-11T21:58:26.993156Z"
    }
   }
  },
  {
   "cell_type": "code",
   "outputs": [],
   "source": [
    "def create_hard_label(df, prob_col, label_name, positive_limit, negative_limit):\n",
    "    df[label_name] = np.where(df[prob_col] >= positive_limit, 1,\n",
    "                                         np.where(df[prob_col] <= negative_limit, 0, pd.NA))\n",
    "    print(df[label_name].value_counts())\n",
    "    # replace -1 with 0 since the code does not support -1\n",
    "    df[label_name] = np.where(df[label_name] == -1, 0, df[label_name])"
   ],
   "metadata": {
    "collapsed": false,
    "ExecuteTime": {
     "end_time": "2024-11-11T21:58:44.389162Z",
     "start_time": "2024-11-11T21:58:44.386656Z"
    }
   },
   "execution_count": 25
  },
  {
   "cell_type": "code",
   "outputs": [
    {
     "name": "stdout",
     "output_type": "stream",
     "text": [
      "hard_label_04_06\n",
      "0    10745\n",
      "1     5792\n",
      "Name: count, dtype: int64\n",
      "hard_label_03_07\n",
      "0    7922\n",
      "1    4615\n",
      "Name: count, dtype: int64\n",
      "hard_label_02_08\n",
      "0    4981\n",
      "1    3568\n",
      "Name: count, dtype: int64\n"
     ]
    }
   ],
   "source": [
    "create_hard_label(merged_data, 'protein_probability_soft_label', 'hard_label_04_06', 0.6, 0.4)\n",
    "create_hard_label(merged_data, 'protein_probability_soft_label', 'hard_label_03_07', 0.7, 0.3)\n",
    "create_hard_label(merged_data, 'protein_probability_soft_label', 'hard_label_02_08', 0.8, 0.2)\n"
   ],
   "metadata": {
    "collapsed": false,
    "ExecuteTime": {
     "end_time": "2024-11-11T21:58:45.021763Z",
     "start_time": "2024-11-11T21:58:44.970325Z"
    }
   },
   "execution_count": 26
  },
  {
   "cell_type": "code",
   "outputs": [],
   "source": [
    "merged_data.to_csv('gastric_all_data.csv', index=False)"
   ],
   "metadata": {
    "collapsed": false,
    "ExecuteTime": {
     "end_time": "2024-11-11T22:01:24.706119Z",
     "start_time": "2024-11-11T22:01:24.647955Z"
    }
   },
   "execution_count": 28
  },
  {
   "cell_type": "code",
   "outputs": [
    {
     "data": {
      "text/plain": "      protein.Accession  protein_probability  protein_probability_soft_label  \\\n0            A0A024RBG1             0.890032                        0.667430   \n1            A0A075B6H7             0.700122                        0.267383   \n2            A0A075B6H8             0.286947                        0.056265   \n3            A0A075B6L6             0.943529                        0.140940   \n4            A0A075B6N1             0.289680                        0.153119   \n...                 ...                  ...                             ...   \n20421            Q9UI54             0.000000                        0.000000   \n20422            Q9Y3F1             0.000000                        0.197423   \n20423            Q9Y6C7             0.000000                        0.093179   \n20424            Q9Y6Z2             0.000000                        0.000000   \n20425            X6R8R1             0.000000                        0.283767   \n\n      gene_symbol  mRNA_TPM hard_label_04_06 hard_label_03_07 hard_label_02_08  \n0          NUDT4B    0.0000                1             <NA>             <NA>  \n1         IGKV3-7    0.0000                0                0             <NA>  \n2       IGKV1D-42    0.0000                0                0                0  \n3         TRBV7-3    0.0000                0                0                0  \n4          TRBV19    0.0000                0                0                0  \n...           ...       ...              ...              ...              ...  \n20421           0    0.0000                0                0                0  \n20422           0    0.0000                0                0                0  \n20423   LINC00312    0.0000                0                0                0  \n20424   LINC01558    0.0531                0                0                0  \n20425      SYT15B    0.0000                0                0             <NA>  \n\n[20426 rows x 8 columns]",
      "text/html": "<div>\n<style scoped>\n    .dataframe tbody tr th:only-of-type {\n        vertical-align: middle;\n    }\n\n    .dataframe tbody tr th {\n        vertical-align: top;\n    }\n\n    .dataframe thead th {\n        text-align: right;\n    }\n</style>\n<table border=\"1\" class=\"dataframe\">\n  <thead>\n    <tr style=\"text-align: right;\">\n      <th></th>\n      <th>protein.Accession</th>\n      <th>protein_probability</th>\n      <th>protein_probability_soft_label</th>\n      <th>gene_symbol</th>\n      <th>mRNA_TPM</th>\n      <th>hard_label_04_06</th>\n      <th>hard_label_03_07</th>\n      <th>hard_label_02_08</th>\n    </tr>\n  </thead>\n  <tbody>\n    <tr>\n      <th>0</th>\n      <td>A0A024RBG1</td>\n      <td>0.890032</td>\n      <td>0.667430</td>\n      <td>NUDT4B</td>\n      <td>0.0000</td>\n      <td>1</td>\n      <td>&lt;NA&gt;</td>\n      <td>&lt;NA&gt;</td>\n    </tr>\n    <tr>\n      <th>1</th>\n      <td>A0A075B6H7</td>\n      <td>0.700122</td>\n      <td>0.267383</td>\n      <td>IGKV3-7</td>\n      <td>0.0000</td>\n      <td>0</td>\n      <td>0</td>\n      <td>&lt;NA&gt;</td>\n    </tr>\n    <tr>\n      <th>2</th>\n      <td>A0A075B6H8</td>\n      <td>0.286947</td>\n      <td>0.056265</td>\n      <td>IGKV1D-42</td>\n      <td>0.0000</td>\n      <td>0</td>\n      <td>0</td>\n      <td>0</td>\n    </tr>\n    <tr>\n      <th>3</th>\n      <td>A0A075B6L6</td>\n      <td>0.943529</td>\n      <td>0.140940</td>\n      <td>TRBV7-3</td>\n      <td>0.0000</td>\n      <td>0</td>\n      <td>0</td>\n      <td>0</td>\n    </tr>\n    <tr>\n      <th>4</th>\n      <td>A0A075B6N1</td>\n      <td>0.289680</td>\n      <td>0.153119</td>\n      <td>TRBV19</td>\n      <td>0.0000</td>\n      <td>0</td>\n      <td>0</td>\n      <td>0</td>\n    </tr>\n    <tr>\n      <th>...</th>\n      <td>...</td>\n      <td>...</td>\n      <td>...</td>\n      <td>...</td>\n      <td>...</td>\n      <td>...</td>\n      <td>...</td>\n      <td>...</td>\n    </tr>\n    <tr>\n      <th>20421</th>\n      <td>Q9UI54</td>\n      <td>0.000000</td>\n      <td>0.000000</td>\n      <td>0</td>\n      <td>0.0000</td>\n      <td>0</td>\n      <td>0</td>\n      <td>0</td>\n    </tr>\n    <tr>\n      <th>20422</th>\n      <td>Q9Y3F1</td>\n      <td>0.000000</td>\n      <td>0.197423</td>\n      <td>0</td>\n      <td>0.0000</td>\n      <td>0</td>\n      <td>0</td>\n      <td>0</td>\n    </tr>\n    <tr>\n      <th>20423</th>\n      <td>Q9Y6C7</td>\n      <td>0.000000</td>\n      <td>0.093179</td>\n      <td>LINC00312</td>\n      <td>0.0000</td>\n      <td>0</td>\n      <td>0</td>\n      <td>0</td>\n    </tr>\n    <tr>\n      <th>20424</th>\n      <td>Q9Y6Z2</td>\n      <td>0.000000</td>\n      <td>0.000000</td>\n      <td>LINC01558</td>\n      <td>0.0531</td>\n      <td>0</td>\n      <td>0</td>\n      <td>0</td>\n    </tr>\n    <tr>\n      <th>20425</th>\n      <td>X6R8R1</td>\n      <td>0.000000</td>\n      <td>0.283767</td>\n      <td>SYT15B</td>\n      <td>0.0000</td>\n      <td>0</td>\n      <td>0</td>\n      <td>&lt;NA&gt;</td>\n    </tr>\n  </tbody>\n</table>\n<p>20426 rows × 8 columns</p>\n</div>"
     },
     "execution_count": 29,
     "metadata": {},
     "output_type": "execute_result"
    }
   ],
   "source": [
    "merged_data"
   ],
   "metadata": {
    "collapsed": false,
    "ExecuteTime": {
     "end_time": "2024-11-11T22:01:26.885785Z",
     "start_time": "2024-11-11T22:01:26.879138Z"
    }
   },
   "execution_count": 29
  },
  {
   "cell_type": "markdown",
   "source": [
    "# Get the second dataset for testing reproducibility"
   ],
   "metadata": {
    "collapsed": false
   }
  },
  {
   "cell_type": "code",
   "outputs": [],
   "source": [
    "dat_test = pd.read_csv('SG_combined_protein_7105_with_protein_probability.csv')"
   ],
   "metadata": {
    "collapsed": false,
    "ExecuteTime": {
     "end_time": "2024-11-13T21:38:32.459295Z",
     "start_time": "2024-11-13T21:38:32.443094Z"
    }
   },
   "execution_count": 32
  },
  {
   "cell_type": "code",
   "outputs": [],
   "source": [
    "# create hard_label_03_07\n",
    "dat_test = pd.merge(dat_test, soft_label, on='protein.Accession', suffixes=('', '_soft_label'))"
   ],
   "metadata": {
    "collapsed": false,
    "ExecuteTime": {
     "end_time": "2024-11-13T21:39:23.804356Z",
     "start_time": "2024-11-13T21:39:23.785538Z"
    }
   },
   "execution_count": 33
  },
  {
   "cell_type": "code",
   "outputs": [],
   "source": [
    "dat_test.to_csv('gastric_test_data.csv', index=False)"
   ],
   "metadata": {
    "collapsed": false,
    "ExecuteTime": {
     "end_time": "2024-11-13T21:40:08.045701Z",
     "start_time": "2024-11-13T21:40:08.007749Z"
    }
   },
   "execution_count": 35
  },
  {
   "cell_type": "code",
   "outputs": [],
   "source": [],
   "metadata": {
    "collapsed": false
   }
  }
 ],
 "metadata": {
  "kernelspec": {
   "display_name": "Python 3",
   "language": "python",
   "name": "python3"
  },
  "language_info": {
   "codemirror_mode": {
    "name": "ipython",
    "version": 2
   },
   "file_extension": ".py",
   "mimetype": "text/x-python",
   "name": "python",
   "nbconvert_exporter": "python",
   "pygments_lexer": "ipython2",
   "version": "2.7.6"
  }
 },
 "nbformat": 4,
 "nbformat_minor": 0
}
